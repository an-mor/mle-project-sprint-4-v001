{
 "cells": [
  {
   "cell_type": "markdown",
   "id": "f4095ae4-7294-4b28-853e-88d235002c97",
   "metadata": {},
   "source": [
    "# Инициализация"
   ]
  },
  {
   "cell_type": "markdown",
   "id": "2f2318d2-9df8-4911-915e-15b725c44f8a",
   "metadata": {},
   "source": [
    "Загружаем библиотеки необходимые для выполнения кода ноутбука."
   ]
  },
  {
   "cell_type": "code",
   "execution_count": 30,
   "id": "662d04e7-1b0b-4e4a-9ddf-4526d7fef119",
   "metadata": {},
   "outputs": [],
   "source": [
    "import boto3\n",
    "import matplotlib.pyplot as plt\n",
    "import numpy as np\n",
    "import os\n",
    "import pandas as pd\n",
    "import scipy\n",
    "import seaborn as sns\n",
    "from catboost import CatBoostClassifier, Pool\n",
    "from dotenv import load_dotenv\n",
    "from implicit.als import AlternatingLeastSquares\n",
    "from io import BytesIO\n",
    "from sklearn.model_selection import train_test_split\n",
    "from tqdm import tqdm"
   ]
  },
  {
   "cell_type": "code",
   "execution_count": 2,
   "id": "cba13c6a",
   "metadata": {},
   "outputs": [],
   "source": [
    "sns.set_style(\"darkgrid\")\n",
    "sns.set_theme(style=\"darkgrid\") "
   ]
  },
  {
   "cell_type": "code",
   "execution_count": 3,
   "id": "49da78dc",
   "metadata": {},
   "outputs": [],
   "source": [
    "pd.options.display.max_columns = 100\n",
    "pd.options.display.max_rows = 64"
   ]
  },
  {
   "cell_type": "code",
   "execution_count": 4,
   "id": "c6ea8193",
   "metadata": {},
   "outputs": [],
   "source": [
    "RND_STATE = 3210"
   ]
  },
  {
   "cell_type": "code",
   "execution_count": 5,
   "id": "d0bca6af",
   "metadata": {},
   "outputs": [],
   "source": [
    "s3_folder_data = \"recsys/data/\"\n",
    "s3_folder_rec = 'recsys/recommendations/'"
   ]
  },
  {
   "cell_type": "code",
   "execution_count": 6,
   "id": "5d355177",
   "metadata": {},
   "outputs": [],
   "source": [
    "def s3_load_file(local_files, s3_folder=\"\"):\n",
    "    \"\"\"\n",
    "    Загружает несколько локальных файлов в S3.\n",
    "\n",
    "    Параметры:\n",
    "    ----------\n",
    "    local_files : list of str\n",
    "        Список локальных путей к файлам.\n",
    "    s3_folder : str\n",
    "        Папка в S3, куда загружать файлы.\n",
    "    \"\"\"\n",
    "    \n",
    "    s3_endpoint = 'https://storage.yandexcloud.net'\n",
    "    s3_region = 'ru-central1'\n",
    "    bucket_name = 's3-student-mle-20241017-f11529b173'\n",
    "    # получаем креды из .env\n",
    "    load_dotenv()\n",
    "    \n",
    "    # подключение к S3\n",
    "    s3_client = boto3.client(\n",
    "        's3',\n",
    "        aws_access_key_id=os.getenv(\"AWS_ACCESS_KEY_ID\"),\n",
    "        aws_secret_access_key=os.getenv(\"AWS_SECRET_ACCESS_KEY\"),\n",
    "        endpoint_url=s3_endpoint,\n",
    "        region_name=s3_region\n",
    "    )\n",
    "\n",
    "    for local_file in local_files:\n",
    "        filename = os.path.basename(local_file)\n",
    "        s3_key = os.path.join(s3_folder, filename) if s3_folder else filename\n",
    "        \n",
    "        s3_client.upload_file(local_file, bucket_name, s3_key)\n",
    "        print(f\"Загружен {local_file} --> s3://{bucket_name}/{s3_key}\")"
   ]
  },
  {
   "cell_type": "code",
   "execution_count": 7,
   "id": "4dfd3952",
   "metadata": {},
   "outputs": [],
   "source": [
    "def read_parquet_from_s3_boto3(filename, s3_folder=\"\"):\n",
    "    \"\"\"\n",
    "    Считывает parquet файл из S3 в pandas.DataFrame.\n",
    "\n",
    "    Параметры:\n",
    "    ----------\n",
    "    filename : str\n",
    "        Имя файла, который нужно загрузить.\n",
    "    s3_folder : str\n",
    "        Папка в S3, откуда загружать файлы.\n",
    "    \"\"\"\n",
    "\n",
    "    s3_endpoint = 'https://storage.yandexcloud.net'\n",
    "    s3_region = 'ru-central1'\n",
    "    bucket_name = 's3-student-mle-20241017-f11529b173'\n",
    "    # получаем креды из .env\n",
    "    load_dotenv()\n",
    "\n",
    "    s3_client = boto3.client(\n",
    "        \"s3\",\n",
    "        aws_access_key_id=os.getenv(\"AWS_ACCESS_KEY_ID\"),\n",
    "        aws_secret_access_key=os.getenv(\"AWS_SECRET_ACCESS_KEY\"),\n",
    "        endpoint_url=s3_endpoint,\n",
    "        region_name=s3_region\n",
    "    )\n",
    "\n",
    "    buffer = BytesIO()\n",
    "    s3_key = os.path.join(s3_folder, filename) if s3_folder else filename\n",
    "    s3_client.download_fileobj(bucket_name, s3_key, buffer)\n",
    "    buffer.seek(0)\n",
    "\n",
    "    df = pd.read_parquet(buffer, engine=\"pyarrow\")\n",
    "    print(f\"Загружен файл из S3: {s3_key}\")\n",
    "    return df"
   ]
  },
  {
   "cell_type": "markdown",
   "id": "bf80fbc5-b660-4fac-8fbb-a5cae77313b3",
   "metadata": {},
   "source": [
    "# === ЭТАП 1 ==="
   ]
  },
  {
   "cell_type": "markdown",
   "id": "5263a8b3-fe99-4204-8a2e-105182792c11",
   "metadata": {},
   "source": [
    "# Загрузка первичных данных"
   ]
  },
  {
   "cell_type": "markdown",
   "id": "1b54a6a5-1656-4e3c-99d1-49dc39451d33",
   "metadata": {},
   "source": [
    "Загружаем первичные данные из файлов:\n",
    "- tracks.parquet\n",
    "- catalog_names.parquet\n",
    "- interactions.parquet"
   ]
  },
  {
   "cell_type": "code",
   "execution_count": 6,
   "id": "5d4b8961-3f35-4e58-9d6b-3e2dbd2c4224",
   "metadata": {},
   "outputs": [],
   "source": [
    "tracks = pd.read_parquet(\"tracks.parquet\")"
   ]
  },
  {
   "cell_type": "markdown",
   "id": "548418cb",
   "metadata": {},
   "source": [
    "- `track_id` — идентификатор музыкального трека;\n",
    "- `albums` — список идентификаторов альбомов, содержащих трек;\n",
    "- `artists` — список идентификаторов исполнителей трека;\n",
    "- `genres` — список идентификаторов жанров, к которым принадлежит трек."
   ]
  },
  {
   "cell_type": "code",
   "execution_count": 5,
   "id": "70f7bdfe-175c-45c1-a2e9-d99f0f33be2e",
   "metadata": {},
   "outputs": [],
   "source": [
    "names = pd.read_parquet(\"catalog_names.parquet\")"
   ]
  },
  {
   "cell_type": "markdown",
   "id": "7dd88ee7",
   "metadata": {},
   "source": [
    "- `id` — идентификатор одной из каталожных единиц (трека, альбома, исполнителя, жанра);\n",
    "- `type` — тип идентификатора;\n",
    "- `name` — имя (название) каталожной единицы."
   ]
  },
  {
   "cell_type": "code",
   "execution_count": 7,
   "id": "c1811608",
   "metadata": {},
   "outputs": [],
   "source": [
    "interactions = pd.read_parquet(\"interactions.parquet\")"
   ]
  },
  {
   "cell_type": "markdown",
   "id": "a504fba6",
   "metadata": {},
   "source": [
    "- `user_id` — идентификатор пользователя,\n",
    "- `track_id` — идентификатор музыкального трека,\n",
    "- `track_seq` — номер места трека в истории пользователя,\n",
    "- `started_at` — дата начала прослушивания трека."
   ]
  },
  {
   "cell_type": "markdown",
   "id": "e8f2a1f7-a05f-4f39-af90-5f4018aa6f9d",
   "metadata": {},
   "source": [
    "# Обзор данных"
   ]
  },
  {
   "cell_type": "markdown",
   "id": "46a85307-896c-4fac-9fcf-f0dffa90889e",
   "metadata": {},
   "source": [
    "Проверяем данные, есть ли с ними явные проблемы."
   ]
  },
  {
   "cell_type": "code",
   "execution_count": 5,
   "id": "8e912935",
   "metadata": {},
   "outputs": [
    {
     "data": {
      "text/html": [
       "<div>\n",
       "<style scoped>\n",
       "    .dataframe tbody tr th:only-of-type {\n",
       "        vertical-align: middle;\n",
       "    }\n",
       "\n",
       "    .dataframe tbody tr th {\n",
       "        vertical-align: top;\n",
       "    }\n",
       "\n",
       "    .dataframe thead th {\n",
       "        text-align: right;\n",
       "    }\n",
       "</style>\n",
       "<table border=\"1\" class=\"dataframe\">\n",
       "  <thead>\n",
       "    <tr style=\"text-align: right;\">\n",
       "      <th></th>\n",
       "      <th>id</th>\n",
       "      <th>type</th>\n",
       "      <th>name</th>\n",
       "    </tr>\n",
       "  </thead>\n",
       "  <tbody>\n",
       "    <tr>\n",
       "      <th>0</th>\n",
       "      <td>3</td>\n",
       "      <td>album</td>\n",
       "      <td>Taller Children</td>\n",
       "    </tr>\n",
       "    <tr>\n",
       "      <th>1</th>\n",
       "      <td>12</td>\n",
       "      <td>album</td>\n",
       "      <td>Wild Young Hearts</td>\n",
       "    </tr>\n",
       "    <tr>\n",
       "      <th>2</th>\n",
       "      <td>13</td>\n",
       "      <td>album</td>\n",
       "      <td>Lonesome Crow</td>\n",
       "    </tr>\n",
       "    <tr>\n",
       "      <th>3</th>\n",
       "      <td>17</td>\n",
       "      <td>album</td>\n",
       "      <td>Graffiti Soul</td>\n",
       "    </tr>\n",
       "    <tr>\n",
       "      <th>4</th>\n",
       "      <td>26</td>\n",
       "      <td>album</td>\n",
       "      <td>Blues Six Pack</td>\n",
       "    </tr>\n",
       "  </tbody>\n",
       "</table>\n",
       "</div>"
      ],
      "text/plain": [
       "   id   type               name\n",
       "0   3  album    Taller Children\n",
       "1  12  album  Wild Young Hearts\n",
       "2  13  album      Lonesome Crow\n",
       "3  17  album      Graffiti Soul\n",
       "4  26  album     Blues Six Pack"
      ]
     },
     "execution_count": 5,
     "metadata": {},
     "output_type": "execute_result"
    }
   ],
   "source": [
    "names.head()"
   ]
  },
  {
   "cell_type": "code",
   "execution_count": 6,
   "id": "aa72c850",
   "metadata": {},
   "outputs": [
    {
     "name": "stdout",
     "output_type": "stream",
     "text": [
      "<class 'pandas.core.frame.DataFrame'>\n",
      "RangeIndex: 1812471 entries, 0 to 1812470\n",
      "Data columns (total 3 columns):\n",
      " #   Column  Dtype \n",
      "---  ------  ----- \n",
      " 0   id      int64 \n",
      " 1   type    object\n",
      " 2   name    object\n",
      "dtypes: int64(1), object(2)\n",
      "memory usage: 41.5+ MB\n"
     ]
    }
   ],
   "source": [
    "names.info()"
   ]
  },
  {
   "cell_type": "code",
   "execution_count": 7,
   "id": "9ea3bb60",
   "metadata": {},
   "outputs": [
    {
     "data": {
      "text/plain": [
       "1776697"
      ]
     },
     "execution_count": 7,
     "metadata": {},
     "output_type": "execute_result"
    }
   ],
   "source": [
    "names['id'].nunique()"
   ]
  },
  {
   "cell_type": "markdown",
   "id": "dcf1a66c",
   "metadata": {},
   "source": [
    "id имеет тип int64, это избыточно, можно перевести в int32"
   ]
  },
  {
   "cell_type": "code",
   "execution_count": 8,
   "id": "182456a5",
   "metadata": {},
   "outputs": [
    {
     "name": "stdout",
     "output_type": "stream",
     "text": [
      "<class 'pandas.core.frame.DataFrame'>\n",
      "Index: 222629898 entries, 0 to 291\n",
      "Data columns (total 4 columns):\n",
      " #   Column      Dtype         \n",
      "---  ------      -----         \n",
      " 0   user_id     int32         \n",
      " 1   track_id    int32         \n",
      " 2   track_seq   int16         \n",
      " 3   started_at  datetime64[ns]\n",
      "dtypes: datetime64[ns](1), int16(1), int32(2)\n",
      "memory usage: 5.4 GB\n"
     ]
    }
   ],
   "source": [
    "interactions.info()"
   ]
  },
  {
   "cell_type": "code",
   "execution_count": 9,
   "id": "6cb311df",
   "metadata": {},
   "outputs": [
    {
     "data": {
      "text/plain": [
       "(222629898, 4)"
      ]
     },
     "execution_count": 9,
     "metadata": {},
     "output_type": "execute_result"
    }
   ],
   "source": [
    "interactions.shape"
   ]
  },
  {
   "cell_type": "markdown",
   "id": "8a36df4b",
   "metadata": {},
   "source": [
    "В датафрейме с данными о взаимодействиях проблема с индексом - более 200 млн. записей, а индекс - только до 291."
   ]
  },
  {
   "cell_type": "code",
   "execution_count": 10,
   "id": "fd9fe2b7",
   "metadata": {},
   "outputs": [
    {
     "data": {
      "text/plain": [
       "16637"
      ]
     },
     "execution_count": 10,
     "metadata": {},
     "output_type": "execute_result"
    }
   ],
   "source": [
    "interactions.index.nunique()"
   ]
  },
  {
   "cell_type": "code",
   "execution_count": 11,
   "id": "5d05ca98",
   "metadata": {},
   "outputs": [
    {
     "data": {
      "text/plain": [
       "False"
      ]
     },
     "execution_count": 11,
     "metadata": {},
     "output_type": "execute_result"
    }
   ],
   "source": [
    "interactions.index.is_unique"
   ]
  },
  {
   "cell_type": "code",
   "execution_count": 14,
   "id": "489b9e5e",
   "metadata": {},
   "outputs": [
    {
     "data": {
      "text/html": [
       "<div>\n",
       "<style scoped>\n",
       "    .dataframe tbody tr th:only-of-type {\n",
       "        vertical-align: middle;\n",
       "    }\n",
       "\n",
       "    .dataframe tbody tr th {\n",
       "        vertical-align: top;\n",
       "    }\n",
       "\n",
       "    .dataframe thead th {\n",
       "        text-align: right;\n",
       "    }\n",
       "</style>\n",
       "<table border=\"1\" class=\"dataframe\">\n",
       "  <thead>\n",
       "    <tr style=\"text-align: right;\">\n",
       "      <th></th>\n",
       "      <th>user_id</th>\n",
       "      <th>track_id</th>\n",
       "      <th>track_seq</th>\n",
       "      <th>started_at</th>\n",
       "    </tr>\n",
       "  </thead>\n",
       "  <tbody>\n",
       "    <tr>\n",
       "      <th>18</th>\n",
       "      <td>9</td>\n",
       "      <td>57001313</td>\n",
       "      <td>19</td>\n",
       "      <td>2022-12-08</td>\n",
       "    </tr>\n",
       "    <tr>\n",
       "      <th>19</th>\n",
       "      <td>9</td>\n",
       "      <td>57003871</td>\n",
       "      <td>20</td>\n",
       "      <td>2022-12-12</td>\n",
       "    </tr>\n",
       "    <tr>\n",
       "      <th>20</th>\n",
       "      <td>9</td>\n",
       "      <td>57006203</td>\n",
       "      <td>21</td>\n",
       "      <td>2022-12-13</td>\n",
       "    </tr>\n",
       "    <tr>\n",
       "      <th>21</th>\n",
       "      <td>9</td>\n",
       "      <td>57043145</td>\n",
       "      <td>22</td>\n",
       "      <td>2022-12-15</td>\n",
       "    </tr>\n",
       "    <tr>\n",
       "      <th>22</th>\n",
       "      <td>9</td>\n",
       "      <td>57043816</td>\n",
       "      <td>23</td>\n",
       "      <td>2022-12-19</td>\n",
       "    </tr>\n",
       "    <tr>\n",
       "      <th>23</th>\n",
       "      <td>9</td>\n",
       "      <td>57175473</td>\n",
       "      <td>24</td>\n",
       "      <td>2022-12-19</td>\n",
       "    </tr>\n",
       "    <tr>\n",
       "      <th>24</th>\n",
       "      <td>9</td>\n",
       "      <td>57181385</td>\n",
       "      <td>25</td>\n",
       "      <td>2022-12-21</td>\n",
       "    </tr>\n",
       "    <tr>\n",
       "      <th>25</th>\n",
       "      <td>9</td>\n",
       "      <td>65320306</td>\n",
       "      <td>26</td>\n",
       "      <td>2022-12-25</td>\n",
       "    </tr>\n",
       "    <tr>\n",
       "      <th>26</th>\n",
       "      <td>9</td>\n",
       "      <td>87659100</td>\n",
       "      <td>27</td>\n",
       "      <td>2022-12-26</td>\n",
       "    </tr>\n",
       "    <tr>\n",
       "      <th>27</th>\n",
       "      <td>9</td>\n",
       "      <td>91007469</td>\n",
       "      <td>28</td>\n",
       "      <td>2022-12-28</td>\n",
       "    </tr>\n",
       "    <tr>\n",
       "      <th>28</th>\n",
       "      <td>9</td>\n",
       "      <td>98280795</td>\n",
       "      <td>29</td>\n",
       "      <td>2022-12-29</td>\n",
       "    </tr>\n",
       "    <tr>\n",
       "      <th>0</th>\n",
       "      <td>10</td>\n",
       "      <td>2290093</td>\n",
       "      <td>1</td>\n",
       "      <td>2022-09-28</td>\n",
       "    </tr>\n",
       "    <tr>\n",
       "      <th>1</th>\n",
       "      <td>10</td>\n",
       "      <td>17069927</td>\n",
       "      <td>2</td>\n",
       "      <td>2022-09-28</td>\n",
       "    </tr>\n",
       "    <tr>\n",
       "      <th>2</th>\n",
       "      <td>10</td>\n",
       "      <td>24480787</td>\n",
       "      <td>3</td>\n",
       "      <td>2022-10-05</td>\n",
       "    </tr>\n",
       "    <tr>\n",
       "      <th>3</th>\n",
       "      <td>10</td>\n",
       "      <td>24716214</td>\n",
       "      <td>4</td>\n",
       "      <td>2022-10-05</td>\n",
       "    </tr>\n",
       "    <tr>\n",
       "      <th>4</th>\n",
       "      <td>10</td>\n",
       "      <td>25951419</td>\n",
       "      <td>5</td>\n",
       "      <td>2022-10-07</td>\n",
       "    </tr>\n",
       "    <tr>\n",
       "      <th>5</th>\n",
       "      <td>10</td>\n",
       "      <td>28701514</td>\n",
       "      <td>6</td>\n",
       "      <td>2022-10-07</td>\n",
       "    </tr>\n",
       "    <tr>\n",
       "      <th>6</th>\n",
       "      <td>10</td>\n",
       "      <td>32540587</td>\n",
       "      <td>7</td>\n",
       "      <td>2022-10-07</td>\n",
       "    </tr>\n",
       "    <tr>\n",
       "      <th>7</th>\n",
       "      <td>10</td>\n",
       "      <td>32540593</td>\n",
       "      <td>8</td>\n",
       "      <td>2022-10-11</td>\n",
       "    </tr>\n",
       "    <tr>\n",
       "      <th>8</th>\n",
       "      <td>10</td>\n",
       "      <td>32540597</td>\n",
       "      <td>9</td>\n",
       "      <td>2022-10-13</td>\n",
       "    </tr>\n",
       "  </tbody>\n",
       "</table>\n",
       "</div>"
      ],
      "text/plain": [
       "    user_id  track_id  track_seq started_at\n",
       "18        9  57001313         19 2022-12-08\n",
       "19        9  57003871         20 2022-12-12\n",
       "20        9  57006203         21 2022-12-13\n",
       "21        9  57043145         22 2022-12-15\n",
       "22        9  57043816         23 2022-12-19\n",
       "23        9  57175473         24 2022-12-19\n",
       "24        9  57181385         25 2022-12-21\n",
       "25        9  65320306         26 2022-12-25\n",
       "26        9  87659100         27 2022-12-26\n",
       "27        9  91007469         28 2022-12-28\n",
       "28        9  98280795         29 2022-12-29\n",
       "0        10   2290093          1 2022-09-28\n",
       "1        10  17069927          2 2022-09-28\n",
       "2        10  24480787          3 2022-10-05\n",
       "3        10  24716214          4 2022-10-05\n",
       "4        10  25951419          5 2022-10-07\n",
       "5        10  28701514          6 2022-10-07\n",
       "6        10  32540587          7 2022-10-07\n",
       "7        10  32540593          8 2022-10-11\n",
       "8        10  32540597          9 2022-10-13"
      ]
     },
     "execution_count": 14,
     "metadata": {},
     "output_type": "execute_result"
    }
   ],
   "source": [
    "interactions[550:570]"
   ]
  },
  {
   "cell_type": "markdown",
   "id": "056b292a",
   "metadata": {},
   "source": [
    "Похоже индекс дублирует track_seq, только начинается с 0, а не с 1. Сбрасываю индекс."
   ]
  },
  {
   "cell_type": "code",
   "execution_count": 15,
   "id": "aa1d7a89",
   "metadata": {},
   "outputs": [],
   "source": [
    "interactions = interactions.reset_index(drop=True)"
   ]
  },
  {
   "cell_type": "code",
   "execution_count": 16,
   "id": "3e86f87e",
   "metadata": {},
   "outputs": [
    {
     "name": "stdout",
     "output_type": "stream",
     "text": [
      "<class 'pandas.core.frame.DataFrame'>\n",
      "RangeIndex: 222629898 entries, 0 to 222629897\n",
      "Data columns (total 4 columns):\n",
      " #   Column      Dtype         \n",
      "---  ------      -----         \n",
      " 0   user_id     int32         \n",
      " 1   track_id    int32         \n",
      " 2   track_seq   int16         \n",
      " 3   started_at  datetime64[ns]\n",
      "dtypes: datetime64[ns](1), int16(1), int32(2)\n",
      "memory usage: 3.7 GB\n"
     ]
    }
   ],
   "source": [
    "interactions.info()"
   ]
  },
  {
   "cell_type": "markdown",
   "id": "bfe59c3a",
   "metadata": {},
   "source": [
    "user_id и track_id в interactions имеют тип int32"
   ]
  },
  {
   "cell_type": "code",
   "execution_count": 17,
   "id": "c9f8f17e-9b56-4f5a-a463-f694a993effb",
   "metadata": {},
   "outputs": [
    {
     "data": {
      "text/html": [
       "<div>\n",
       "<style scoped>\n",
       "    .dataframe tbody tr th:only-of-type {\n",
       "        vertical-align: middle;\n",
       "    }\n",
       "\n",
       "    .dataframe tbody tr th {\n",
       "        vertical-align: top;\n",
       "    }\n",
       "\n",
       "    .dataframe thead th {\n",
       "        text-align: right;\n",
       "    }\n",
       "</style>\n",
       "<table border=\"1\" class=\"dataframe\">\n",
       "  <thead>\n",
       "    <tr style=\"text-align: right;\">\n",
       "      <th></th>\n",
       "      <th>track_id</th>\n",
       "      <th>albums</th>\n",
       "      <th>artists</th>\n",
       "      <th>genres</th>\n",
       "    </tr>\n",
       "  </thead>\n",
       "  <tbody>\n",
       "    <tr>\n",
       "      <th>0</th>\n",
       "      <td>26</td>\n",
       "      <td>[3, 2490753]</td>\n",
       "      <td>[16]</td>\n",
       "      <td>[11, 21]</td>\n",
       "    </tr>\n",
       "    <tr>\n",
       "      <th>1</th>\n",
       "      <td>38</td>\n",
       "      <td>[3, 2490753]</td>\n",
       "      <td>[16]</td>\n",
       "      <td>[11, 21]</td>\n",
       "    </tr>\n",
       "    <tr>\n",
       "      <th>2</th>\n",
       "      <td>135</td>\n",
       "      <td>[12, 214, 2490809]</td>\n",
       "      <td>[84]</td>\n",
       "      <td>[11]</td>\n",
       "    </tr>\n",
       "    <tr>\n",
       "      <th>3</th>\n",
       "      <td>136</td>\n",
       "      <td>[12, 214, 2490809]</td>\n",
       "      <td>[84]</td>\n",
       "      <td>[11]</td>\n",
       "    </tr>\n",
       "    <tr>\n",
       "      <th>4</th>\n",
       "      <td>138</td>\n",
       "      <td>[12, 214, 322, 72275, 72292, 91199, 213505, 24...</td>\n",
       "      <td>[84]</td>\n",
       "      <td>[11]</td>\n",
       "    </tr>\n",
       "  </tbody>\n",
       "</table>\n",
       "</div>"
      ],
      "text/plain": [
       "   track_id                                             albums artists  \\\n",
       "0        26                                       [3, 2490753]    [16]   \n",
       "1        38                                       [3, 2490753]    [16]   \n",
       "2       135                                 [12, 214, 2490809]    [84]   \n",
       "3       136                                 [12, 214, 2490809]    [84]   \n",
       "4       138  [12, 214, 322, 72275, 72292, 91199, 213505, 24...    [84]   \n",
       "\n",
       "     genres  \n",
       "0  [11, 21]  \n",
       "1  [11, 21]  \n",
       "2      [11]  \n",
       "3      [11]  \n",
       "4      [11]  "
      ]
     },
     "execution_count": 17,
     "metadata": {},
     "output_type": "execute_result"
    }
   ],
   "source": [
    "tracks.head()"
   ]
  },
  {
   "cell_type": "code",
   "execution_count": 18,
   "id": "ec7ca278",
   "metadata": {},
   "outputs": [
    {
     "name": "stdout",
     "output_type": "stream",
     "text": [
      "<class 'pandas.core.frame.DataFrame'>\n",
      "RangeIndex: 1000000 entries, 0 to 999999\n",
      "Data columns (total 4 columns):\n",
      " #   Column    Non-Null Count    Dtype \n",
      "---  ------    --------------    ----- \n",
      " 0   track_id  1000000 non-null  int64 \n",
      " 1   albums    1000000 non-null  object\n",
      " 2   artists   1000000 non-null  object\n",
      " 3   genres    1000000 non-null  object\n",
      "dtypes: int64(1), object(3)\n",
      "memory usage: 30.5+ MB\n"
     ]
    }
   ],
   "source": [
    "tracks.info()"
   ]
  },
  {
   "cell_type": "markdown",
   "id": "0d19a536",
   "metadata": {},
   "source": [
    "track_id в tracks имеет тип int64, что скорее всего избыточно. albums, artists и genres представлены как списки чисел, поэтому имеют тип object."
   ]
  },
  {
   "cell_type": "code",
   "execution_count": 19,
   "id": "79206b02",
   "metadata": {},
   "outputs": [
    {
     "data": {
      "text/plain": [
       "1000000"
      ]
     },
     "execution_count": 19,
     "metadata": {},
     "output_type": "execute_result"
    }
   ],
   "source": [
    "tracks['track_id'].nunique()"
   ]
  },
  {
   "cell_type": "markdown",
   "id": "be718308",
   "metadata": {},
   "source": [
    "Возможно некоторые списки пустые. Проверим это"
   ]
  },
  {
   "cell_type": "code",
   "execution_count": 20,
   "id": "ae90da03",
   "metadata": {},
   "outputs": [
    {
     "name": "stdout",
     "output_type": "stream",
     "text": [
      "Строк без альбомов: 18\n",
      "Строк без исполнителей: 15369\n",
      "Строк без жанров: 3687\n"
     ]
    }
   ],
   "source": [
    "# Количество строк без альбомов (albums = [])\n",
    "empty_albums = (tracks['albums'].str.len() == 0).sum()\n",
    "print(\"Строк без альбомов:\", empty_albums)\n",
    "\n",
    "# Количество строк без исполнителей (artists = [])\n",
    "empty_artists = (tracks['artists'].str.len() == 0).sum()\n",
    "print(\"Строк без исполнителей:\", empty_artists)\n",
    "\n",
    "# Количество строк без жанров (genres = [])\n",
    "empty_genres = (tracks['genres'].str.len() == 0).sum()\n",
    "print(\"Строк без жанров:\", empty_genres)"
   ]
  },
  {
   "cell_type": "code",
   "execution_count": 21,
   "id": "95a98a3c",
   "metadata": {},
   "outputs": [
    {
     "name": "stdout",
     "output_type": "stream",
     "text": [
      "Всего строк с хотя бы одним пустым списком: 19023\n"
     ]
    }
   ],
   "source": [
    "has_empty = (\n",
    "    (tracks['albums'].str.len() == 0) |\n",
    "    (tracks['artists'].str.len() == 0) |\n",
    "    (tracks['genres'].str.len() == 0)\n",
    ")\n",
    "\n",
    "total_empty = has_empty.sum()\n",
    "print(\"Всего строк с хотя бы одним пустым списком:\", total_empty)"
   ]
  },
  {
   "cell_type": "code",
   "execution_count": 22,
   "id": "87265254",
   "metadata": {},
   "outputs": [
    {
     "name": "stdout",
     "output_type": "stream",
     "text": [
      "Всего строк со всеми пустыми списками: 18\n"
     ]
    }
   ],
   "source": [
    "all_empty = (\n",
    "    (tracks['albums'].str.len() == 0) &\n",
    "    (tracks['artists'].str.len() == 0) &\n",
    "    (tracks['genres'].str.len() == 0)\n",
    ")\n",
    "\n",
    "total_all_empty = all_empty.sum()\n",
    "print(\"Всего строк со всеми пустыми списками:\", total_all_empty)"
   ]
  },
  {
   "cell_type": "markdown",
   "id": "5a27befa",
   "metadata": {},
   "source": [
    "Проверяю, встречаются ли треки с пропусками в датафрейме со взаимодействиями"
   ]
  },
  {
   "cell_type": "code",
   "execution_count": 23,
   "id": "e7b4c41e",
   "metadata": {},
   "outputs": [],
   "source": [
    "tracks_with_missing_data = tracks.loc[has_empty, 'track_id'].unique()"
   ]
  },
  {
   "cell_type": "code",
   "execution_count": 24,
   "id": "8903286f",
   "metadata": {},
   "outputs": [
    {
     "name": "stdout",
     "output_type": "stream",
     "text": [
      "⚠️ Взаимодействия с треками, у которых есть пропуски в tracks:\n",
      "Количество таких взаимодействий: 445449\n",
      "Доля таких взаимодействий: 0.2%\n",
      "Примеры track_id: [47273871  1527076 20969110 24572678 39831568]\n"
     ]
    }
   ],
   "source": [
    "missing_tracks_in_interactions = interactions[\n",
    "    interactions['track_id'].isin(tracks_with_missing_data)\n",
    "]\n",
    "\n",
    "if not missing_tracks_in_interactions.empty:\n",
    "    print(\"⚠️ Взаимодействия с треками, у которых есть пропуски в tracks:\")\n",
    "    print(f\"Количество таких взаимодействий: {len(missing_tracks_in_interactions)}\")\n",
    "    print(f\"Доля таких взаимодействий: {len(missing_tracks_in_interactions) / interactions.shape[0]:.1%}\")\n",
    "    print(\"Примеры track_id:\", missing_tracks_in_interactions['track_id'].unique()[:5])\n",
    "else:\n",
    "    print(\"✅ В interactions нет взаимодействий с треками, у которых пропуски в tracks.\")"
   ]
  },
  {
   "cell_type": "code",
   "execution_count": 25,
   "id": "472c5198",
   "metadata": {},
   "outputs": [
    {
     "name": "stdout",
     "output_type": "stream",
     "text": [
      "Доля строк в tracks с хотя бы одним пустым списком: 1.9%\n"
     ]
    }
   ],
   "source": [
    "print(f\"Доля строк в tracks с хотя бы одним пустым списком: {total_empty / tracks.shape[0]:.1%}\")"
   ]
  },
  {
   "cell_type": "markdown",
   "id": "c29a5814",
   "metadata": {},
   "source": [
    "Заменяю пропуски на специальные значения (-1)"
   ]
  },
  {
   "cell_type": "code",
   "execution_count": 7,
   "id": "47bc66ba",
   "metadata": {},
   "outputs": [],
   "source": [
    "UNKNOWN_ID = -1\n",
    "\n",
    "tracks[\"genres\"] = tracks[\"genres\"].apply(lambda x: x if len(x) > 0 else [UNKNOWN_ID])\n",
    "tracks[\"artists\"] = tracks[\"artists\"].apply(lambda x: x if len(x) > 0 else [UNKNOWN_ID])\n",
    "tracks[\"albums\"] = tracks[\"albums\"].apply(lambda x: x if len(x) > 0 else [UNKNOWN_ID])"
   ]
  },
  {
   "cell_type": "markdown",
   "id": "38c819f7",
   "metadata": {},
   "source": [
    "Привожу к типу int32 идентификаторы в names и tracks"
   ]
  },
  {
   "cell_type": "code",
   "execution_count": 8,
   "id": "21395c80",
   "metadata": {},
   "outputs": [],
   "source": [
    "names[\"id\"] = names[\"id\"].astype(\"int32\")\n",
    "tracks[\"track_id\"] = tracks[\"track_id\"].astype(\"int32\")"
   ]
  },
  {
   "cell_type": "markdown",
   "id": "318b573a-9e2d-4808-95db-60cfb8bbdb73",
   "metadata": {
    "editable": true,
    "slideshow": {
     "slide_type": ""
    },
    "tags": []
   },
   "source": [
    "# Выводы"
   ]
  },
  {
   "cell_type": "markdown",
   "id": "caa96e12-36a8-4401-8f11-98627a49ae9d",
   "metadata": {},
   "source": [
    "Приведём выводы по первому знакомству с данными:\n",
    "- есть ли с данными явные проблемы,\n",
    "- какие корректирующие действия (в целом) были предприняты."
   ]
  },
  {
   "cell_type": "markdown",
   "id": "8ebdefeb",
   "metadata": {},
   "source": [
    "В данных обнаружены следующие проблемы:\n",
    "- тип идентификаторов в датафреймах `names` и `tracks` - `int64`, что является избыточным и не совпадает с типом идентификаторов в датафрейме `interactions`;\n",
    "- индекс в датафрейме `interactions` не является уникальным;\n",
    "- в датафрейме tracks есть записи с пустыми списками в полях `albums`, `artists` и `genres`."
   ]
  },
  {
   "cell_type": "markdown",
   "id": "75d46491",
   "metadata": {},
   "source": [
    "Что было сделано:\n",
    "- тип идентификаторов изменён на `int32`;\n",
    "- сброшен индекс в `interactions`;\n",
    "- пустые записи заменены на `-1`"
   ]
  },
  {
   "cell_type": "markdown",
   "id": "7bc3296b-eba6-4333-a78d-b9304aa87e3d",
   "metadata": {},
   "source": [
    "# === ЭТАП 2 ==="
   ]
  },
  {
   "cell_type": "markdown",
   "id": "68e73960-fd38-4e15-8db0-9a25c35dfd25",
   "metadata": {},
   "source": [
    "# EDA"
   ]
  },
  {
   "cell_type": "markdown",
   "id": "a30e823e-8e0f-4a76-a02e-8d1ba8bf0f8a",
   "metadata": {},
   "source": [
    "## Распределение количества прослушанных треков."
   ]
  },
  {
   "cell_type": "code",
   "execution_count": 54,
   "id": "9bf5eaba-35f7-4da7-be59-9ab4a34b2423",
   "metadata": {},
   "outputs": [],
   "source": [
    "user_track_counts = interactions.groupby(\"user_id\")[\"track_id\"].count().reset_index()"
   ]
  },
  {
   "cell_type": "code",
   "execution_count": 55,
   "id": "d1cba851",
   "metadata": {},
   "outputs": [
    {
     "data": {
      "text/plain": [
       "count    1373221.00\n",
       "mean         162.12\n",
       "std          351.28\n",
       "min            1.00\n",
       "25%           23.00\n",
       "50%           55.00\n",
       "75%          154.00\n",
       "max        16637.00\n",
       "Name: track_id, dtype: float64"
      ]
     },
     "execution_count": 55,
     "metadata": {},
     "output_type": "execute_result"
    }
   ],
   "source": [
    "user_track_counts['track_id'].describe().round(2)"
   ]
  },
  {
   "cell_type": "code",
   "execution_count": 61,
   "id": "96e5bf49",
   "metadata": {},
   "outputs": [
    {
     "data": {
      "image/png": "[encoded data removed]",
      "text/plain": [
       "<Figure size 1650x1250 with 2 Axes>"
      ]
     },
     "metadata": {},
     "output_type": "display_data"
    }
   ],
   "source": [
    "fig, axs = plt.subplots(2, 1) \n",
    "fig.set_size_inches(16.5, 12.5, forward=True)\n",
    "fig.tight_layout(pad=2.6)\n",
    "\n",
    "x = \"track_id\"\n",
    "x_label = \"Количество прослушанных треков\"\n",
    "sns.histplot(user_track_counts, x=x, kde=True, bins=100, ax=axs[0])\n",
    "axs[0].set_title(f'Распределение количества прослушанных треков по пользователям', fontsize=18)\n",
    "axs[0].set_xlabel(x_label)\n",
    "axs[0].set_ylabel(\"Количество пользователей\")\n",
    "\n",
    "sns.boxplot(user_track_counts, x=x, ax=axs[1])\n",
    "axs[1].set_xlabel(x_label)\n",
    "\n",
    "plt.show()"
   ]
  },
  {
   "cell_type": "code",
   "execution_count": 64,
   "id": "821c4c6e",
   "metadata": {},
   "outputs": [
    {
     "data": {
      "image/png": "[encoded data removed]",
      "text/plain": [
       "<Figure size 1650x1250 with 2 Axes>"
      ]
     },
     "metadata": {},
     "output_type": "display_data"
    }
   ],
   "source": [
    "fig, axs = plt.subplots(2, 1) \n",
    "fig.set_size_inches(16.5, 12.5, forward=True)\n",
    "fig.tight_layout(pad=2.6)\n",
    "\n",
    "x = \"track_id\"\n",
    "x_label = \"Количество прослушанных треков\"\n",
    "sns.histplot(user_track_counts, x=x, bins=1000, ax=axs[0])\n",
    "axs[0].set_title(f'Распределение количества прослушанных треков по пользователям', fontsize=18)\n",
    "axs[0].set_xlabel(x_label)\n",
    "axs[0].set_ylabel(\"Количество пользователей\")\n",
    "axs[0].set_xlim(0, 2000)\n",
    "\n",
    "sns.boxplot(user_track_counts, x=x, ax=axs[1])\n",
    "axs[1].set_xlabel(x_label)\n",
    "axs[1].set_xlim(0, 2000)\n",
    "\n",
    "plt.show()"
   ]
  },
  {
   "cell_type": "markdown",
   "id": "24251759",
   "metadata": {},
   "source": [
    "Большинство пользователей прослушали несколько десятков треков. Тех, кто прослушал более 300, совсем мало."
   ]
  },
  {
   "cell_type": "markdown",
   "id": "d765519a-18dd-4d30-9e29-cc2d84cacd79",
   "metadata": {},
   "source": [
    "## Наиболее популярные треки"
   ]
  },
  {
   "cell_type": "code",
   "execution_count": 77,
   "id": "570cf467",
   "metadata": {},
   "outputs": [],
   "source": [
    "# топ-20 треков по прослушиваниям\n",
    "popular_tracks = interactions[\"track_id\"].value_counts().head(20).rename_axis(\"track_id\").reset_index(name=\"count\")\n",
    "\n",
    "# получаем genres, albums, artists из таблицы tracks\n",
    "popular_tracks_info = popular_tracks.merge(tracks, on=\"track_id\", how=\"left\")\n",
    "\n",
    "# получаем названия треков\n",
    "track_names = names[names[\"type\"] == \"track\"][[\"id\", \"name\"]].rename(columns={\"id\": \"track_id\", \"name\": \"track_name\"})\n",
    "popular_tracks_info = popular_tracks_info.merge(track_names, on=\"track_id\", how=\"left\")\n",
    "\n",
    "# словари для жанров, альбомов, исполнителей\n",
    "genres_dict = names[names[\"type\"] == \"genre\"][[\"id\", \"name\"]].rename(columns={\"id\": \"genre_id\", \"name\": \"genre_name\"})\n",
    "albums_dict = names[names[\"type\"] == \"album\"][[\"id\", \"name\"]].rename(columns={\"id\": \"album_id\", \"name\": \"album_name\"})\n",
    "artists_dict = names[names[\"type\"] == \"artist\"][[\"id\", \"name\"]].rename(columns={\"id\": \"artist_id\", \"name\": \"artist_name\"})\n",
    "\n",
    "# разворачиваем списки genres\n",
    "genres_exploded = popular_tracks_info[[\"track_id\", \"genres\"]].explode(\"genres\")\n",
    "genres_exploded = genres_exploded.merge(genres_dict, left_on=\"genres\", right_on=\"genre_id\", how=\"left\")\n",
    "genres_agg = genres_exploded.groupby(\"track_id\")[\"genre_name\"].apply(lambda x: \", \".join(x.dropna().unique()))\n",
    "\n",
    "# разворачиваем списки albums\n",
    "albums_exploded = popular_tracks_info[[\"track_id\", \"albums\"]].explode(\"albums\")\n",
    "albums_exploded = albums_exploded.merge(albums_dict, left_on=\"albums\", right_on=\"album_id\", how=\"left\")\n",
    "albums_agg = albums_exploded.groupby(\"track_id\")[\"album_name\"].apply(lambda x: \", \".join(x.dropna().unique()))\n",
    "\n",
    "# разворачиваем списки artists\n",
    "artists_exploded = popular_tracks_info[[\"track_id\", \"artists\"]].explode(\"artists\")\n",
    "artists_exploded = artists_exploded.merge(artists_dict, left_on=\"artists\", right_on=\"artist_id\", how=\"left\")\n",
    "artists_agg = artists_exploded.groupby(\"track_id\")[\"artist_name\"].apply(lambda x: \", \".join(x.dropna().unique()))\n",
    "\n",
    "# финальная таблица\n",
    "popular_tracks_final = popular_tracks_info[[\"track_id\", \"count\", \"track_name\"]].set_index(\"track_id\")\n",
    "popular_tracks_final = popular_tracks_final.join(albums_agg).join(genres_agg).join(artists_agg)\n",
    "\n",
    "popular_tracks_final = popular_tracks_final.rename(columns={\n",
    "    \"album_name\": \"albums\",\n",
    "    \"genre_name\": \"genres\",\n",
    "    \"artist_name\": \"artists\"\n",
    "}).reset_index()"
   ]
  },
  {
   "cell_type": "markdown",
   "id": "3cf5266c",
   "metadata": {},
   "source": [
    "Самые популярные 20 треков:"
   ]
  },
  {
   "cell_type": "code",
   "execution_count": 78,
   "id": "9b17f16d",
   "metadata": {},
   "outputs": [
    {
     "data": {
      "text/html": [
       "<div>\n",
       "<style scoped>\n",
       "    .dataframe tbody tr th:only-of-type {\n",
       "        vertical-align: middle;\n",
       "    }\n",
       "\n",
       "    .dataframe tbody tr th {\n",
       "        vertical-align: top;\n",
       "    }\n",
       "\n",
       "    .dataframe thead th {\n",
       "        text-align: right;\n",
       "    }\n",
       "</style>\n",
       "<table border=\"1\" class=\"dataframe\">\n",
       "  <thead>\n",
       "    <tr style=\"text-align: right;\">\n",
       "      <th></th>\n",
       "      <th>track_id</th>\n",
       "      <th>count</th>\n",
       "      <th>track_name</th>\n",
       "      <th>albums</th>\n",
       "      <th>genres</th>\n",
       "      <th>artists</th>\n",
       "    </tr>\n",
       "  </thead>\n",
       "  <tbody>\n",
       "    <tr>\n",
       "      <th>0</th>\n",
       "      <td>53404</td>\n",
       "      <td>111062</td>\n",
       "      <td>Smells Like Teen Spirit</td>\n",
       "      <td>Nevermind, Nirvana, Skiing Music, Smells Like ...</td>\n",
       "      <td>alternative, rock, allrock</td>\n",
       "      <td>Nirvana</td>\n",
       "    </tr>\n",
       "    <tr>\n",
       "      <th>1</th>\n",
       "      <td>33311009</td>\n",
       "      <td>106921</td>\n",
       "      <td>Believer</td>\n",
       "      <td>Shape Of Pop, NOW That's What I Call Music, Ev...</td>\n",
       "      <td>rock, allrock</td>\n",
       "      <td>Imagine Dragons</td>\n",
       "    </tr>\n",
       "    <tr>\n",
       "      <th>2</th>\n",
       "      <td>178529</td>\n",
       "      <td>101924</td>\n",
       "      <td>Numb</td>\n",
       "      <td>Meteora, 00s Rock Anthems</td>\n",
       "      <td>numetal, metal</td>\n",
       "      <td>Linkin Park</td>\n",
       "    </tr>\n",
       "    <tr>\n",
       "      <th>3</th>\n",
       "      <td>35505245</td>\n",
       "      <td>99490</td>\n",
       "      <td>I Got Love</td>\n",
       "      <td>I Got Love</td>\n",
       "      <td>rusrap, rap</td>\n",
       "      <td>Miyagi &amp; Эндшпиль, Рем Дигга</td>\n",
       "    </tr>\n",
       "    <tr>\n",
       "      <th>4</th>\n",
       "      <td>65851540</td>\n",
       "      <td>86670</td>\n",
       "      <td>Юность</td>\n",
       "      <td>Юность</td>\n",
       "      <td>pop, ruspop</td>\n",
       "      <td>Dabro</td>\n",
       "    </tr>\n",
       "    <tr>\n",
       "      <th>5</th>\n",
       "      <td>24692821</td>\n",
       "      <td>86246</td>\n",
       "      <td>Way Down We Go</td>\n",
       "      <td>Way down We Go, Summer Music 2016, A/B, DFM Da...</td>\n",
       "      <td>indie</td>\n",
       "      <td>KALEO</td>\n",
       "    </tr>\n",
       "    <tr>\n",
       "      <th>6</th>\n",
       "      <td>32947997</td>\n",
       "      <td>85886</td>\n",
       "      <td>Shape of You</td>\n",
       "      <td>Shape of You, ÷, Summer Vibes, Pop</td>\n",
       "      <td>pop</td>\n",
       "      <td>Ed Sheeran</td>\n",
       "    </tr>\n",
       "    <tr>\n",
       "      <th>7</th>\n",
       "      <td>51241318</td>\n",
       "      <td>85244</td>\n",
       "      <td>In The End</td>\n",
       "      <td>In the End, Christian TikTok, Trending Now 202...</td>\n",
       "      <td>rnb</td>\n",
       "      <td>Tommee Profitt, Fleurie, Mellen Gi</td>\n",
       "    </tr>\n",
       "    <tr>\n",
       "      <th>8</th>\n",
       "      <td>795836</td>\n",
       "      <td>85042</td>\n",
       "      <td>Shape Of My Heart</td>\n",
       "      <td>Ten Summoner's Tales, 25 Years, The Best Of 25...</td>\n",
       "      <td>pop, rock, allrock</td>\n",
       "      <td>Sting</td>\n",
       "    </tr>\n",
       "    <tr>\n",
       "      <th>9</th>\n",
       "      <td>45499814</td>\n",
       "      <td>84748</td>\n",
       "      <td>Life</td>\n",
       "      <td>Life, Made in Russia, Fresh Dance, Учителя (Му...</td>\n",
       "      <td>pop, ruspop</td>\n",
       "      <td>Zivert</td>\n",
       "    </tr>\n",
       "    <tr>\n",
       "      <th>10</th>\n",
       "      <td>60292250</td>\n",
       "      <td>84471</td>\n",
       "      <td>Blinding Lights</td>\n",
       "      <td>Blinding Lights, After Hours, The Highlights</td>\n",
       "      <td>rnb</td>\n",
       "      <td>The Weeknd</td>\n",
       "    </tr>\n",
       "    <tr>\n",
       "      <th>11</th>\n",
       "      <td>6705392</td>\n",
       "      <td>82483</td>\n",
       "      <td>Seven Nation Army</td>\n",
       "      <td>Elephant, Seven Nation Army, Pay Close Attenti...</td>\n",
       "      <td>alternative</td>\n",
       "      <td>The White Stripes</td>\n",
       "    </tr>\n",
       "    <tr>\n",
       "      <th>12</th>\n",
       "      <td>39257277</td>\n",
       "      <td>81978</td>\n",
       "      <td>In My Mind</td>\n",
       "      <td>In My Mind, Dance Hits 2019 - Summer Edition, ...</td>\n",
       "      <td>dance</td>\n",
       "      <td>Dynoro, Gigi D'Agostino</td>\n",
       "    </tr>\n",
       "    <tr>\n",
       "      <th>13</th>\n",
       "      <td>29544272</td>\n",
       "      <td>81057</td>\n",
       "      <td>Human</td>\n",
       "      <td>Human, Some Chillout Music, Music Made for Chi...</td>\n",
       "      <td>soundtrack, indie</td>\n",
       "      <td>Rag'n'Bone Man</td>\n",
       "    </tr>\n",
       "    <tr>\n",
       "      <th>14</th>\n",
       "      <td>37384</td>\n",
       "      <td>80153</td>\n",
       "      <td>Zombie</td>\n",
       "      <td>Stars: The Best Of The Cranberries 1992-2002, ...</td>\n",
       "      <td>rock, allrock</td>\n",
       "      <td>The Cranberries</td>\n",
       "    </tr>\n",
       "    <tr>\n",
       "      <th>15</th>\n",
       "      <td>51516485</td>\n",
       "      <td>78370</td>\n",
       "      <td>bad guy</td>\n",
       "      <td>WHEN WE ALL FALL ASLEEP, WHERE DO WE GO?, 2020...</td>\n",
       "      <td>indie</td>\n",
       "      <td>Billie Eilish</td>\n",
       "    </tr>\n",
       "    <tr>\n",
       "      <th>16</th>\n",
       "      <td>2758009</td>\n",
       "      <td>78181</td>\n",
       "      <td>The Show Must Go On</td>\n",
       "      <td>Innuendo, Bohemian Rhapsody, Greatest Hits In ...</td>\n",
       "      <td>rock, films, soundtrack, allrock</td>\n",
       "      <td>Queen</td>\n",
       "    </tr>\n",
       "    <tr>\n",
       "      <th>17</th>\n",
       "      <td>47627256</td>\n",
       "      <td>76052</td>\n",
       "      <td>Cradles</td>\n",
       "      <td>Cradles</td>\n",
       "      <td>electronics</td>\n",
       "      <td>Sub Urban</td>\n",
       "    </tr>\n",
       "    <tr>\n",
       "      <th>18</th>\n",
       "      <td>328683</td>\n",
       "      <td>75686</td>\n",
       "      <td>Bring Me To Life</td>\n",
       "      <td>Fallen, Daredevil - The Album (Music From The ...</td>\n",
       "      <td>alternative, rock, allrock</td>\n",
       "      <td>Evanescence</td>\n",
       "    </tr>\n",
       "    <tr>\n",
       "      <th>19</th>\n",
       "      <td>57921154</td>\n",
       "      <td>74733</td>\n",
       "      <td>Комета</td>\n",
       "      <td>Комета</td>\n",
       "      <td>pop, ruspop</td>\n",
       "      <td>JONY</td>\n",
       "    </tr>\n",
       "  </tbody>\n",
       "</table>\n",
       "</div>"
      ],
      "text/plain": [
       "    track_id   count               track_name  \\\n",
       "0      53404  111062  Smells Like Teen Spirit   \n",
       "1   33311009  106921                 Believer   \n",
       "2     178529  101924                     Numb   \n",
       "3   35505245   99490               I Got Love   \n",
       "4   65851540   86670                   Юность   \n",
       "5   24692821   86246           Way Down We Go   \n",
       "6   32947997   85886             Shape of You   \n",
       "7   51241318   85244               In The End   \n",
       "8     795836   85042        Shape Of My Heart   \n",
       "9   45499814   84748                     Life   \n",
       "10  60292250   84471          Blinding Lights   \n",
       "11   6705392   82483        Seven Nation Army   \n",
       "12  39257277   81978               In My Mind   \n",
       "13  29544272   81057                    Human   \n",
       "14     37384   80153                   Zombie   \n",
       "15  51516485   78370                  bad guy   \n",
       "16   2758009   78181      The Show Must Go On   \n",
       "17  47627256   76052                  Cradles   \n",
       "18    328683   75686         Bring Me To Life   \n",
       "19  57921154   74733                   Комета   \n",
       "\n",
       "                                               albums  \\\n",
       "0   Nevermind, Nirvana, Skiing Music, Smells Like ...   \n",
       "1   Shape Of Pop, NOW That's What I Call Music, Ev...   \n",
       "2                           Meteora, 00s Rock Anthems   \n",
       "3                                          I Got Love   \n",
       "4                                              Юность   \n",
       "5   Way down We Go, Summer Music 2016, A/B, DFM Da...   \n",
       "6                  Shape of You, ÷, Summer Vibes, Pop   \n",
       "7   In the End, Christian TikTok, Trending Now 202...   \n",
       "8   Ten Summoner's Tales, 25 Years, The Best Of 25...   \n",
       "9   Life, Made in Russia, Fresh Dance, Учителя (Му...   \n",
       "10       Blinding Lights, After Hours, The Highlights   \n",
       "11  Elephant, Seven Nation Army, Pay Close Attenti...   \n",
       "12  In My Mind, Dance Hits 2019 - Summer Edition, ...   \n",
       "13  Human, Some Chillout Music, Music Made for Chi...   \n",
       "14  Stars: The Best Of The Cranberries 1992-2002, ...   \n",
       "15  WHEN WE ALL FALL ASLEEP, WHERE DO WE GO?, 2020...   \n",
       "16  Innuendo, Bohemian Rhapsody, Greatest Hits In ...   \n",
       "17                                            Cradles   \n",
       "18  Fallen, Daredevil - The Album (Music From The ...   \n",
       "19                                             Комета   \n",
       "\n",
       "                              genres                             artists  \n",
       "0         alternative, rock, allrock                             Nirvana  \n",
       "1                      rock, allrock                     Imagine Dragons  \n",
       "2                     numetal, metal                         Linkin Park  \n",
       "3                        rusrap, rap        Miyagi & Эндшпиль, Рем Дигга  \n",
       "4                        pop, ruspop                               Dabro  \n",
       "5                              indie                               KALEO  \n",
       "6                                pop                          Ed Sheeran  \n",
       "7                                rnb  Tommee Profitt, Fleurie, Mellen Gi  \n",
       "8                 pop, rock, allrock                               Sting  \n",
       "9                        pop, ruspop                              Zivert  \n",
       "10                               rnb                          The Weeknd  \n",
       "11                       alternative                   The White Stripes  \n",
       "12                             dance             Dynoro, Gigi D'Agostino  \n",
       "13                 soundtrack, indie                      Rag'n'Bone Man  \n",
       "14                     rock, allrock                     The Cranberries  \n",
       "15                             indie                       Billie Eilish  \n",
       "16  rock, films, soundtrack, allrock                               Queen  \n",
       "17                       electronics                           Sub Urban  \n",
       "18        alternative, rock, allrock                         Evanescence  \n",
       "19                       pop, ruspop                                JONY  "
      ]
     },
     "execution_count": 78,
     "metadata": {},
     "output_type": "execute_result"
    }
   ],
   "source": [
    "popular_tracks_final"
   ]
  },
  {
   "cell_type": "markdown",
   "id": "b1c32a5a-d3be-4f96-8dd9-f7860951020c",
   "metadata": {},
   "source": [
    "## Наиболее популярные жанры"
   ]
  },
  {
   "cell_type": "code",
   "execution_count": null,
   "id": "1c0c65cd",
   "metadata": {},
   "outputs": [],
   "source": [
    "# количество прослушиваний по каждому треку\n",
    "track_play_counts = interactions[\"track_id\"].value_counts().rename_axis(\"track_id\").reset_index(name=\"play_count\")\n",
    "\n",
    "# жанры треков\n",
    "tracks_genres = tracks[[\"track_id\", \"genres\"]].copy()\n",
    "tracks_genres[\"genres\"] = tracks_genres[\"genres\"].apply(lambda x: x if len(x) > 0 else [-1])  # unknown genre -1\n",
    "tracks_genres_exploded = tracks_genres.explode(\"genres\")\n",
    "\n",
    "# добавляем play_count к жанрам\n",
    "tracks_genres_counts = tracks_genres_exploded.merge(track_play_counts, on=\"track_id\", how=\"left\")\n",
    "\n",
    "# популярность жанров\n",
    "genre_popularity = tracks_genres_counts.groupby(\"genres\")[\"play_count\"].sum().sort_values(ascending=False).head(10)\n",
    "\n",
    "# названия жанров\n",
    "genre_names = names[names[\"type\"]==\"genre\"][[\"id\", \"name\"]]\n",
    "\n",
    "popular_genres_named = genre_popularity.rename_axis(\"genre_id\").reset_index(name=\"count\")\n",
    "popular_genres_named = popular_genres_named.merge(genre_names, left_on=\"genre_id\", right_on=\"id\", how=\"left\")"
   ]
  },
  {
   "cell_type": "code",
   "execution_count": 10,
   "id": "bda23430",
   "metadata": {},
   "outputs": [
    {
     "data": {
      "text/html": [
       "<div>\n",
       "<style scoped>\n",
       "    .dataframe tbody tr th:only-of-type {\n",
       "        vertical-align: middle;\n",
       "    }\n",
       "\n",
       "    .dataframe tbody tr th {\n",
       "        vertical-align: top;\n",
       "    }\n",
       "\n",
       "    .dataframe thead th {\n",
       "        text-align: right;\n",
       "    }\n",
       "</style>\n",
       "<table border=\"1\" class=\"dataframe\">\n",
       "  <thead>\n",
       "    <tr style=\"text-align: right;\">\n",
       "      <th></th>\n",
       "      <th>genre_id</th>\n",
       "      <th>count</th>\n",
       "      <th>id</th>\n",
       "      <th>name</th>\n",
       "    </tr>\n",
       "  </thead>\n",
       "  <tbody>\n",
       "    <tr>\n",
       "      <th>0</th>\n",
       "      <td>11</td>\n",
       "      <td>55578312</td>\n",
       "      <td>11</td>\n",
       "      <td>pop</td>\n",
       "    </tr>\n",
       "    <tr>\n",
       "      <th>1</th>\n",
       "      <td>75</td>\n",
       "      <td>37799821</td>\n",
       "      <td>75</td>\n",
       "      <td>rap</td>\n",
       "    </tr>\n",
       "    <tr>\n",
       "      <th>2</th>\n",
       "      <td>102</td>\n",
       "      <td>31092013</td>\n",
       "      <td>102</td>\n",
       "      <td>allrock</td>\n",
       "    </tr>\n",
       "    <tr>\n",
       "      <th>3</th>\n",
       "      <td>20</td>\n",
       "      <td>26626241</td>\n",
       "      <td>20</td>\n",
       "      <td>ruspop</td>\n",
       "    </tr>\n",
       "    <tr>\n",
       "      <th>4</th>\n",
       "      <td>3</td>\n",
       "      <td>25303695</td>\n",
       "      <td>3</td>\n",
       "      <td>rusrap</td>\n",
       "    </tr>\n",
       "    <tr>\n",
       "      <th>5</th>\n",
       "      <td>68</td>\n",
       "      <td>20120981</td>\n",
       "      <td>68</td>\n",
       "      <td>electronics</td>\n",
       "    </tr>\n",
       "    <tr>\n",
       "      <th>6</th>\n",
       "      <td>16</td>\n",
       "      <td>16291557</td>\n",
       "      <td>16</td>\n",
       "      <td>dance</td>\n",
       "    </tr>\n",
       "    <tr>\n",
       "      <th>7</th>\n",
       "      <td>2</td>\n",
       "      <td>13166147</td>\n",
       "      <td>2</td>\n",
       "      <td>rusrock</td>\n",
       "    </tr>\n",
       "    <tr>\n",
       "      <th>8</th>\n",
       "      <td>14</td>\n",
       "      <td>12772644</td>\n",
       "      <td>14</td>\n",
       "      <td>rock</td>\n",
       "    </tr>\n",
       "    <tr>\n",
       "      <th>9</th>\n",
       "      <td>47</td>\n",
       "      <td>12437375</td>\n",
       "      <td>47</td>\n",
       "      <td>metal</td>\n",
       "    </tr>\n",
       "  </tbody>\n",
       "</table>\n",
       "</div>"
      ],
      "text/plain": [
       "   genre_id     count   id         name\n",
       "0        11  55578312   11          pop\n",
       "1        75  37799821   75          rap\n",
       "2       102  31092013  102      allrock\n",
       "3        20  26626241   20       ruspop\n",
       "4         3  25303695    3       rusrap\n",
       "5        68  20120981   68  electronics\n",
       "6        16  16291557   16        dance\n",
       "7         2  13166147    2      rusrock\n",
       "8        14  12772644   14         rock\n",
       "9        47  12437375   47        metal"
      ]
     },
     "execution_count": 10,
     "metadata": {},
     "output_type": "execute_result"
    }
   ],
   "source": [
    "popular_genres_named"
   ]
  },
  {
   "cell_type": "code",
   "execution_count": 13,
   "id": "643a3835",
   "metadata": {},
   "outputs": [
    {
     "data": {
      "image/png": "[encoded data removed]",
      "text/plain": [
       "<Figure size 1200x500 with 1 Axes>"
      ]
     },
     "metadata": {},
     "output_type": "display_data"
    }
   ],
   "source": [
    "plt.figure(figsize=(12,5))\n",
    "sns.barplot(popular_genres_named, x='name', y='count')\n",
    "plt.xlabel(\"Название жанра\")\n",
    "plt.ylabel(\"Количество прослушиваний\")\n",
    "plt.title(\"Популярные жанры\")\n",
    "plt.show()"
   ]
  },
  {
   "cell_type": "markdown",
   "id": "a0afbd15",
   "metadata": {},
   "source": [
    "Самая популярная со значительным отрывом - поп-музыка, затем рэп и allrock"
   ]
  },
  {
   "cell_type": "markdown",
   "id": "15254e66-e80e-473b-ba24-abebea5ccac7",
   "metadata": {},
   "source": [
    "## Треки, которые никто не прослушал"
   ]
  },
  {
   "cell_type": "code",
   "execution_count": 9,
   "id": "50bc50c6-2d83-4c7e-97fa-3e7627978438",
   "metadata": {},
   "outputs": [
    {
     "name": "stdout",
     "output_type": "stream",
     "text": [
      "Количество треков, которые никто не прослушал: 0\n"
     ]
    }
   ],
   "source": [
    "all_tracks = set(tracks[\"track_id\"])\n",
    "interacted_tracks = set(interactions[\"track_id\"])\n",
    "\n",
    "unlistened_tracks = all_tracks - interacted_tracks\n",
    "\n",
    "print(f\"Количество треков, которые никто не прослушал: {len(unlistened_tracks)}\")"
   ]
  },
  {
   "cell_type": "markdown",
   "id": "800f2841",
   "metadata": {},
   "source": [
    "Среди треков нет таких, которые никто ни разу не прослушал."
   ]
  },
  {
   "cell_type": "markdown",
   "id": "d63da370",
   "metadata": {},
   "source": [
    "## Выводы по EDA"
   ]
  },
  {
   "cell_type": "markdown",
   "id": "9989f0f7",
   "metadata": {},
   "source": [
    "- в медианном значении по данным прослушанных треков на пользователя приходится около 50 треков. Есть неактивные пользователи, которые прослушали единицы треков.\n",
    "- получен топ популярных треков и топ популярных жанров. Несмотря на то, что самый популярный жанр - это поп-музыка, в топ популярных треков попало довольно много рока, причём на верхние позиции\n",
    "- в данных по трекам нет таких композиций, которых никто не прослушал."
   ]
  },
  {
   "cell_type": "markdown",
   "id": "0d850a07-ef1e-462f-891a-1cf89f2e24ef",
   "metadata": {},
   "source": [
    "# Преобразование данных"
   ]
  },
  {
   "cell_type": "markdown",
   "id": "fabcf8d2-1192-4df5-b20b-fbb84689f57a",
   "metadata": {},
   "source": [
    "Преобразуем данные в формат, более пригодный для дальнейшего использования в расчётах рекомендаций."
   ]
  },
  {
   "cell_type": "markdown",
   "id": "e0477ae4",
   "metadata": {},
   "source": [
    "*Все преобразования сделаны на 1 этапе*"
   ]
  },
  {
   "cell_type": "markdown",
   "id": "4d1be653-eed8-4fa0-a9c5-3811b080d71d",
   "metadata": {},
   "source": [
    "# Сохранение данных"
   ]
  },
  {
   "cell_type": "markdown",
   "id": "36f1314a-3af3-4faf-a0b1-3045173d1500",
   "metadata": {},
   "source": [
    "Сохраним данные в двух файлах в персональном S3-бакете по пути `recsys/data/`:\n",
    "- `items.parquet` — все данные о музыкальных треках,\n",
    "- `events.parquet` — все данные о взаимодействиях."
   ]
  },
  {
   "cell_type": "code",
   "execution_count": 19,
   "id": "9f77af17-7705-4fae-9aad-db579b39faad",
   "metadata": {},
   "outputs": [],
   "source": [
    "tracks.to_parquet(\"items.parquet\")\n",
    "interactions.to_parquet(\"events.parquet\")"
   ]
  },
  {
   "cell_type": "code",
   "execution_count": null,
   "id": "46b4d8dd",
   "metadata": {},
   "outputs": [
    {
     "name": "stdout",
     "output_type": "stream",
     "text": [
      "Загружен items.parquet --> s3://s3-student-mle-20241017-f11529b173/recsys/data/items.parquet\n",
      "Загружен events.parquet --> s3://s3-student-mle-20241017-f11529b173/recsys/data/events.parquet\n"
     ]
    }
   ],
   "source": [
    "s3_load_file([\"items.parquet\", \"events.parquet\"], s3_folder=s3_folder_data)"
   ]
  },
  {
   "cell_type": "markdown",
   "id": "72ecbbed-c560-44d9-9c14-86c7dc76f399",
   "metadata": {},
   "source": [
    "# Очистка памяти"
   ]
  },
  {
   "cell_type": "markdown",
   "id": "b5358ede-ba6e-4c4f-bd73-5b9344f0ba79",
   "metadata": {},
   "source": [
    "Здесь, может понадобится очистка памяти для высвобождения ресурсов для выполнения кода ниже. \n",
    "\n",
    "Приведите соответствующие код, комментарии, например:\n",
    "- код для удаление более ненужных переменных,\n",
    "- комментарий, что следует перезапустить kernel, выполнить такие-то начальные секции и продолжить с этапа 3."
   ]
  },
  {
   "cell_type": "code",
   "execution_count": 8,
   "id": "767fe920-e12e-4ad8-b04e-56e8091fac9f",
   "metadata": {},
   "outputs": [],
   "source": [
    "# Удаляем ненужные переменные\n",
    "del tracks\n",
    "del interactions\n",
    "# del names"
   ]
  },
  {
   "cell_type": "markdown",
   "id": "c3ffadb1",
   "metadata": {},
   "source": [
    "Можно перезапустить kernel, выполнить ячейки из раздела \"Инициализация\" и продолжить с этапа 3"
   ]
  },
  {
   "cell_type": "markdown",
   "id": "708503df-ee89-4cf3-8489-093dc478e2a8",
   "metadata": {},
   "source": [
    "# === ЭТАП 3 ==="
   ]
  },
  {
   "cell_type": "markdown",
   "id": "fd77de22-e10f-4b42-85c1-8fb6f805fe68",
   "metadata": {},
   "source": [
    "# Загрузка данных"
   ]
  },
  {
   "cell_type": "markdown",
   "id": "780a4241-1ecd-4a3e-bbb3-fc2f6ca94f68",
   "metadata": {},
   "source": [
    "Если необходимо, то загружаем items.parquet, events.parquet."
   ]
  },
  {
   "cell_type": "code",
   "execution_count": 7,
   "id": "f19fc8a5-bd2c-40d7-864a-ee75aca6d512",
   "metadata": {},
   "outputs": [
    {
     "name": "stdout",
     "output_type": "stream",
     "text": [
      "Загружен файл из S3: recsys/data/items.parquet\n"
     ]
    }
   ],
   "source": [
    "items = read_parquet_from_s3_boto3(\"items.parquet\", s3_folder_data)"
   ]
  },
  {
   "cell_type": "code",
   "execution_count": 8,
   "id": "5db1e801-5845-4ce3-86f2-c2fa30f68cc5",
   "metadata": {},
   "outputs": [
    {
     "name": "stdout",
     "output_type": "stream",
     "text": [
      "Загружен файл из S3: recsys/data/events.parquet\n"
     ]
    }
   ],
   "source": [
    "events = read_parquet_from_s3_boto3(\"events.parquet\", s3_folder_data)"
   ]
  },
  {
   "cell_type": "markdown",
   "id": "a694c023-6477-490b-939d-1cfa6f5f1b72",
   "metadata": {},
   "source": [
    "# Разбиение данных"
   ]
  },
  {
   "cell_type": "markdown",
   "id": "fbd5f6e0-54e7-4428-8678-eabce505d82c",
   "metadata": {},
   "source": [
    "Разбиваем данные на тренировочную, тестовую выборки."
   ]
  },
  {
   "cell_type": "code",
   "execution_count": 11,
   "id": "bd1eb814",
   "metadata": {},
   "outputs": [
    {
     "data": {
      "text/plain": [
       "count                        222629898\n",
       "mean     2022-08-29 16:39:44.541336320\n",
       "min                2022-01-01 00:00:00\n",
       "25%                2022-07-02 00:00:00\n",
       "50%                2022-09-15 00:00:00\n",
       "75%                2022-11-09 00:00:00\n",
       "max                2022-12-31 00:00:00\n",
       "Name: started_at, dtype: object"
      ]
     },
     "execution_count": 11,
     "metadata": {},
     "output_type": "execute_result"
    }
   ],
   "source": [
    "events['started_at'].describe()"
   ]
  },
  {
   "cell_type": "markdown",
   "id": "ef5e1f9a",
   "metadata": {},
   "source": [
    "Представлены взаимодействия за весь 2022 год"
   ]
  },
  {
   "cell_type": "code",
   "execution_count": 11,
   "id": "00c2dfa5-d8a2-47d1-922e-6eefee2c62d1",
   "metadata": {},
   "outputs": [],
   "source": [
    "# задаем точку разбиения\n",
    "train_test_global_time_split_date = pd.to_datetime(\"2022-12-16\")\n",
    "train_test_global_time_split_idx = events[\"started_at\"] < train_test_global_time_split_date\n",
    "\n",
    "events_train = events[train_test_global_time_split_idx]\n",
    "events_test = events[~train_test_global_time_split_idx]"
   ]
  },
  {
   "cell_type": "code",
   "execution_count": 12,
   "id": "f5d7f762",
   "metadata": {},
   "outputs": [
    {
     "name": "stdout",
     "output_type": "stream",
     "text": [
      "Количество записей\n",
      "events - 222,629,898\n",
      "events_train - 208,731,252\n",
      "events_test - 13,898,646\n"
     ]
    }
   ],
   "source": [
    "print('Количество записей')\n",
    "print(f'events - {events.shape[0]:,}')\n",
    "print(f'events_train - {events_train.shape[0]:,}')\n",
    "print(f'events_test - {events_test.shape[0]:,}')"
   ]
  },
  {
   "cell_type": "code",
   "execution_count": 16,
   "id": "26fe3e3c-8c5f-4437-bf13-9191adef08bb",
   "metadata": {},
   "outputs": [],
   "source": [
    "# количество пользователей в train и test\n",
    "users_train = events_train[\"user_id\"].drop_duplicates()\n",
    "users_test = events_test[\"user_id\"].drop_duplicates()\n",
    "# количество пользователей, которые есть и в train, и в test\n",
    "common_users = set(users_train) & set(users_test)\n",
    "# количество холодных пользователей\n",
    "cold_users = set(users_test) - set(users_train)"
   ]
  },
  {
   "cell_type": "code",
   "execution_count": 17,
   "id": "1e50c8e1",
   "metadata": {},
   "outputs": [
    {
     "name": "stdout",
     "output_type": "stream",
     "text": [
      "Пользователей в train: 1,342,566\n",
      "Пользователей в test: 783,525\n",
      "Общих пользователей: 752,870\n",
      "Холодных пользователей: 30,655\n"
     ]
    }
   ],
   "source": [
    "print(f'Пользователей в train: {len(users_train):,}')\n",
    "print(f'Пользователей в test: {len(users_test):,}')\n",
    "print(f'Общих пользователей: {len(common_users):,}')\n",
    "print(f'Холодных пользователей: {len(cold_users):,}')"
   ]
  },
  {
   "cell_type": "markdown",
   "id": "268d3446",
   "metadata": {},
   "source": [
    "При таком количестве пользователей и записей не удаётся завершить получение рекомендаций от ALS модели с текущей конфигурацией виртуальной машины. Поэтому уменьшаю количество записей - беру данные после 01.06.2022 и оставляю для обучения модели топ самых активных пользователей (200 000)"
   ]
  },
  {
   "cell_type": "code",
   "execution_count": 9,
   "id": "f4313217",
   "metadata": {},
   "outputs": [],
   "source": [
    "train_reduce_date = pd.to_datetime('2022-06-01')\n",
    "events_reduced = events[events['started_at'] >= train_reduce_date].reset_index(drop=True)"
   ]
  },
  {
   "cell_type": "code",
   "execution_count": 12,
   "id": "f8f94cba",
   "metadata": {},
   "outputs": [
    {
     "data": {
      "text/html": [
       "<div>\n",
       "<style scoped>\n",
       "    .dataframe tbody tr th:only-of-type {\n",
       "        vertical-align: middle;\n",
       "    }\n",
       "\n",
       "    .dataframe tbody tr th {\n",
       "        vertical-align: top;\n",
       "    }\n",
       "\n",
       "    .dataframe thead th {\n",
       "        text-align: right;\n",
       "    }\n",
       "</style>\n",
       "<table border=\"1\" class=\"dataframe\">\n",
       "  <thead>\n",
       "    <tr style=\"text-align: right;\">\n",
       "      <th></th>\n",
       "      <th>user_id</th>\n",
       "      <th>track_id</th>\n",
       "      <th>track_seq</th>\n",
       "      <th>started_at</th>\n",
       "    </tr>\n",
       "  </thead>\n",
       "  <tbody>\n",
       "    <tr>\n",
       "      <th>0</th>\n",
       "      <td>0</td>\n",
       "      <td>99262</td>\n",
       "      <td>1</td>\n",
       "      <td>2022-07-17</td>\n",
       "    </tr>\n",
       "    <tr>\n",
       "      <th>1</th>\n",
       "      <td>0</td>\n",
       "      <td>589498</td>\n",
       "      <td>2</td>\n",
       "      <td>2022-07-19</td>\n",
       "    </tr>\n",
       "    <tr>\n",
       "      <th>2</th>\n",
       "      <td>0</td>\n",
       "      <td>590262</td>\n",
       "      <td>3</td>\n",
       "      <td>2022-07-21</td>\n",
       "    </tr>\n",
       "    <tr>\n",
       "      <th>3</th>\n",
       "      <td>0</td>\n",
       "      <td>590303</td>\n",
       "      <td>4</td>\n",
       "      <td>2022-07-22</td>\n",
       "    </tr>\n",
       "    <tr>\n",
       "      <th>4</th>\n",
       "      <td>0</td>\n",
       "      <td>590692</td>\n",
       "      <td>5</td>\n",
       "      <td>2022-07-22</td>\n",
       "    </tr>\n",
       "  </tbody>\n",
       "</table>\n",
       "</div>"
      ],
      "text/plain": [
       "   user_id  track_id  track_seq started_at\n",
       "0        0     99262          1 2022-07-17\n",
       "1        0    589498          2 2022-07-19\n",
       "2        0    590262          3 2022-07-21\n",
       "3        0    590303          4 2022-07-22\n",
       "4        0    590692          5 2022-07-22"
      ]
     },
     "execution_count": 12,
     "metadata": {},
     "output_type": "execute_result"
    }
   ],
   "source": [
    "events_reduced.head()"
   ]
  },
  {
   "cell_type": "code",
   "execution_count": 10,
   "id": "3dee2a79",
   "metadata": {},
   "outputs": [],
   "source": [
    "# задаем точку разбиения\n",
    "train_test_global_time_split_date = pd.to_datetime(\"2022-12-16\")\n",
    "train_test_global_time_split_idx = events_reduced[\"started_at\"] < train_test_global_time_split_date\n",
    "\n",
    "events_train = events_reduced[train_test_global_time_split_idx]\n",
    "events_test = events_reduced[~train_test_global_time_split_idx]"
   ]
  },
  {
   "cell_type": "code",
   "execution_count": 11,
   "id": "485a3ab8",
   "metadata": {},
   "outputs": [],
   "source": [
    "n_top_users = 200_000\n",
    "user_activity = events_train['user_id'].value_counts()\n",
    "top_users = user_activity.head(n_top_users).index\n",
    "events_train_reduced = events_train[events_train['user_id'].isin(top_users)]"
   ]
  },
  {
   "cell_type": "code",
   "execution_count": 12,
   "id": "945033dc",
   "metadata": {},
   "outputs": [
    {
     "name": "stdout",
     "output_type": "stream",
     "text": [
      "Количество записей\n",
      "events_train_reduced - 110,300,809\n",
      "events_test - 13,898,646\n"
     ]
    }
   ],
   "source": [
    "print('Количество записей')\n",
    "print(f'events_train_reduced - {events_train_reduced.shape[0]:,}')\n",
    "print(f'events_test - {events_test.shape[0]:,}')"
   ]
  },
  {
   "cell_type": "code",
   "execution_count": 17,
   "id": "492ebc10",
   "metadata": {},
   "outputs": [
    {
     "name": "stdout",
     "output_type": "stream",
     "text": [
      "Пользователей в train_reduced: 200,000\n",
      "Пользователей в test: 783,525\n",
      "Общих пользователей: 124,724\n",
      "Холодных пользователей: 658,801\n"
     ]
    }
   ],
   "source": [
    "# количество пользователей в train и test\n",
    "users_train_reduced = events_train_reduced[\"user_id\"].drop_duplicates()\n",
    "users_test = events_test[\"user_id\"].drop_duplicates()\n",
    "# количество пользователей, которые есть и в train, и в test\n",
    "common_users = set(users_train_reduced) & set(users_test)\n",
    "# количество холодных пользователей\n",
    "cold_users = set(users_test) - set(users_train_reduced)\n",
    "print(f'Пользователей в train_reduced: {len(users_train_reduced):,}')\n",
    "print(f'Пользователей в test: {len(users_test):,}')\n",
    "print(f'Общих пользователей: {len(common_users):,}')\n",
    "print(f'Холодных пользователей: {len(cold_users):,}')"
   ]
  },
  {
   "cell_type": "markdown",
   "id": "190bcfde",
   "metadata": {},
   "source": [
    "Сохраняю `events_train_reduced` и `events_test` для последующего использования, чтобы не повторять обработку"
   ]
  },
  {
   "cell_type": "code",
   "execution_count": 13,
   "id": "5e89d206",
   "metadata": {},
   "outputs": [
    {
     "name": "stdout",
     "output_type": "stream",
     "text": [
      "Загружен events_train_reduced.parquet --> s3://s3-student-mle-20241017-f11529b173/recsys/data/events_train_reduced.parquet\n",
      "Загружен events_test.parquet --> s3://s3-student-mle-20241017-f11529b173/recsys/data/events_test.parquet\n"
     ]
    }
   ],
   "source": [
    "events_train_reduced.to_parquet(\"events_train_reduced.parquet\")\n",
    "events_test.to_parquet(\"events_test.parquet\")\n",
    "s3_load_file([\"events_train_reduced.parquet\", \"events_test.parquet\"], s3_folder=s3_folder_data)"
   ]
  },
  {
   "cell_type": "markdown",
   "id": "9131c7e6-8852-4556-b510-51f7253cc299",
   "metadata": {},
   "source": [
    "# Топ популярных"
   ]
  },
  {
   "cell_type": "markdown",
   "id": "dd70d43a-88cc-4719-b291-feaed7136f30",
   "metadata": {},
   "source": [
    "Рассчитаем рекомендации как топ популярных."
   ]
  },
  {
   "cell_type": "code",
   "execution_count": 18,
   "id": "ee45e200-b7d6-4f56-9077-aad431689b96",
   "metadata": {},
   "outputs": [],
   "source": [
    "top_tracks = (\n",
    "    events_train_reduced.groupby(\"track_id\")[\"user_id\"]\n",
    "    .count()\n",
    "    .sort_values(ascending=False)\n",
    "    .reset_index()\n",
    "    .rename(columns={\"user_id\": \"play_count\"})\n",
    ")"
   ]
  },
  {
   "cell_type": "code",
   "execution_count": 19,
   "id": "7690c86f-7aa9-46ed-bba5-2c837626411e",
   "metadata": {},
   "outputs": [],
   "source": [
    "top_100_items = pd.DataFrame(top_tracks[\"track_id\"].head(100))"
   ]
  },
  {
   "cell_type": "code",
   "execution_count": 20,
   "id": "8c03808c",
   "metadata": {},
   "outputs": [],
   "source": [
    "top_100_items.to_parquet(\"top_100_items.parquet\")"
   ]
  },
  {
   "cell_type": "code",
   "execution_count": 21,
   "id": "8fd779df",
   "metadata": {},
   "outputs": [
    {
     "name": "stdout",
     "output_type": "stream",
     "text": [
      "Загружен top_100_items.parquet --> s3://s3-student-mle-20241017-f11529b173/recsys/recommendations/top_100_items.parquet\n"
     ]
    }
   ],
   "source": [
    "s3_load_file([\"top_100_items.parquet\"], s3_folder=s3_folder_rec)"
   ]
  },
  {
   "cell_type": "markdown",
   "id": "2ad231f2-6158-421a-b7fa-01d8bc3ed572",
   "metadata": {},
   "source": [
    "# Персональные"
   ]
  },
  {
   "cell_type": "markdown",
   "id": "86159460-cd9d-4b63-8248-604ea3c9aebf",
   "metadata": {},
   "source": [
    "Рассчитаем персональные рекомендации."
   ]
  },
  {
   "cell_type": "code",
   "execution_count": null,
   "id": "a50df494",
   "metadata": {},
   "outputs": [],
   "source": [
    "user_ids = events_train_reduced['user_id'].unique()\n",
    "track_ids = events_train_reduced['track_id'].unique()\n",
    "\n",
    "user_to_idx = {user_id: idx for idx, user_id in enumerate(user_ids)}\n",
    "track_to_idx = {track_id: idx for idx, track_id in enumerate(track_ids)}\n",
    "idx_to_track = {idx: track_id for track_id, idx in track_to_idx.items()}\n",
    "\n",
    "# Создаём CSR матрицу из обучающих данных\n",
    "rows = events_train_reduced['user_id'].map(user_to_idx).values\n",
    "cols = events_train_reduced['track_id'].map(track_to_idx).values\n",
    "\n",
    "user_item_matrix_train = scipy.sparse.csr_matrix(\n",
    "    (np.ones(len(rows)), (rows, cols)),\n",
    "    shape=(len(user_ids), len(track_ids))\n",
    ")"
   ]
  },
  {
   "cell_type": "markdown",
   "id": "0329e5bd",
   "metadata": {},
   "source": [
    "Создаю и обучаю ALS-модель"
   ]
  },
  {
   "cell_type": "code",
   "execution_count": 27,
   "id": "533a240c",
   "metadata": {},
   "outputs": [
    {
     "name": "stderr",
     "output_type": "stream",
     "text": [
      "/home/mle-user/mle_projects/mle-project-sprint-4-v001/venv_project_04/lib/python3.10/site-packages/implicit/cpu/als.py:95: RuntimeWarning: OpenBLAS is configured to use 4 threads. It is highly recommended to disable its internal threadpool by setting the environment variable 'OPENBLAS_NUM_THREADS=1' or by calling 'threadpoolctl.threadpool_limits(1, \"blas\")'. Having OpenBLAS use a threadpool can lead to severe performance issues here.\n",
      "  check_blas_config()\n"
     ]
    },
    {
     "data": {
      "application/vnd.jupyter.widget-view+json": {
       "model_id": "12923e5d853d46498056870401368779",
       "version_major": 2,
       "version_minor": 0
      },
      "text/plain": [
       "  0%|          | 0/30 [00:00<?, ?it/s]"
      ]
     },
     "metadata": {},
     "output_type": "display_data"
    }
   ],
   "source": [
    "als_model = AlternatingLeastSquares(\n",
    "    factors=50,\n",
    "    iterations=30,\n",
    "    regularization=0.05,\n",
    "    random_state=RND_STATE\n",
    ")\n",
    "als_model.fit(user_item_matrix_train)"
   ]
  },
  {
   "cell_type": "markdown",
   "id": "2552f9ad",
   "metadata": {},
   "source": [
    "Получаю персональные рекомендации, по 20 треков на пользователя, т.к. получение рекомендаций занимает много времени и может быть прервано тайм-аутом виртуальной машины"
   ]
  },
  {
   "cell_type": "code",
   "execution_count": 28,
   "id": "f65ca0e8",
   "metadata": {},
   "outputs": [
    {
     "name": "stderr",
     "output_type": "stream",
     "text": [
      "Generating recommendations: 100%|████████████████████████████████████████████████████████████████████████████| 200000/200000 [45:27<00:00, 73.32it/s]\n"
     ]
    },
    {
     "name": "stdout",
     "output_type": "stream",
     "text": [
      "Загружен personal_als.parquet --> s3://s3-student-mle-20241017-f11529b173/recsys/recommendations/personal_als.parquet\n"
     ]
    }
   ],
   "source": [
    "rec_personal = []\n",
    "    \n",
    "for user_id, user_idx in tqdm(user_to_idx.items(), desc=\"Generating recommendations\"):\n",
    "    # Рекомендуем треки, которые пользователь ещё не слушал в train\n",
    "    ids, scores = als_model.recommend(\n",
    "        user_idx,\n",
    "        user_item_matrix_train[user_idx],\n",
    "        N=20,\n",
    "        filter_already_liked_items=True\n",
    "    )\n",
    "    \n",
    "    track_ids = [idx_to_track[idx] for idx in ids]\n",
    "\n",
    "    for track_id, score in zip(track_ids, scores):\n",
    "            rec_personal.append({\n",
    "                'user_id': user_id,\n",
    "                'track_id': track_id,\n",
    "                'score': score\n",
    "            })\n",
    "\n",
    "personal_als_df = pd.DataFrame(rec_personal)\n",
    "personal_als_df.to_parquet(\"personal_als.parquet\", index=False)\n",
    "s3_load_file([\"personal_als.parquet\"], s3_folder=s3_folder_rec)"
   ]
  },
  {
   "cell_type": "markdown",
   "id": "5f09dc7e-7c91-4355-860a-b9cfb9f33f15",
   "metadata": {},
   "source": [
    "# Похожие"
   ]
  },
  {
   "cell_type": "markdown",
   "id": "1dfcb683-b440-40a8-9975-894156a53872",
   "metadata": {},
   "source": [
    "Рассчитаем похожие, они позже пригодятся для онлайн-рекомендаций."
   ]
  },
  {
   "cell_type": "markdown",
   "id": "185d975d",
   "metadata": {},
   "source": [
    "Для расчёта похожих треков беру те, которые есть и в test, и в train. Если брать все треки, которые есть в train, не хватает мощности ВМ, чтобы завершить обработку до тайм-аута "
   ]
  },
  {
   "cell_type": "code",
   "execution_count": 19,
   "id": "c8198d20",
   "metadata": {},
   "outputs": [
    {
     "name": "stdout",
     "output_type": "stream",
     "text": [
      "Количество уникальных треков в train: 987880\n",
      "Количество уникальных треков в test: 594326\n",
      "Количество общих треков train и test: 588872\n"
     ]
    }
   ],
   "source": [
    "print('Количество уникальных треков в train:', events_train_reduced['track_id'].nunique())\n",
    "test_track_ids = events_test['track_id'].unique()\n",
    "print('Количество уникальных треков в test:', len(test_track_ids))\n",
    "\n",
    "# оставляю только те, которые есть в ALS обучении (events_train) и в test\n",
    "valid_test_track_ids = [tid for tid in test_track_ids if tid in track_to_idx]\n",
    "print('Количество общих треков train и test:', len(valid_test_track_ids))"
   ]
  },
  {
   "cell_type": "code",
   "execution_count": 21,
   "id": "185a0cdf",
   "metadata": {},
   "outputs": [
    {
     "name": "stderr",
     "output_type": "stream",
     "text": [
      "Generating similar items: 100%|████████████████████████████████████████████████████████████████████████████████████████████████| 588872/588872 [2:18:32<00:00, 70.84it/s]\n"
     ]
    },
    {
     "name": "stdout",
     "output_type": "stream",
     "text": [
      "Загружен similar.parquet --> s3://s3-student-mle-20241017-f11529b173/recsys/recommendations/similar.parquet\n"
     ]
    }
   ],
   "source": [
    "similar_items = []\n",
    "k=10\n",
    "    \n",
    "for track_id in tqdm(valid_test_track_ids, desc=\"Generating similar items\"):\n",
    "    \n",
    "    track_idx = track_to_idx[track_id]\n",
    "    \n",
    "    # Получаем похожие треки напрямую из ALS модели\n",
    "    similar_idx, scores = als_model.similar_items(track_idx, N=k+1)  # +1 чтобы исключить сам трек\n",
    "    \n",
    "    # Исключаем сам трек (он всегда будет первым с score=1.0)\n",
    "    similar_idx = similar_idx[1:]\n",
    "    scores = scores[1:]\n",
    "    \n",
    "    for idx, score in zip(similar_idx, scores):\n",
    "        similar_items.append({\n",
    "            'track_id': track_id,\n",
    "            'similar_track_id': idx_to_track[idx],\n",
    "            'score': float(score)  # Явное приведение типа\n",
    "        })\n",
    "\n",
    "similar_items_df = pd.DataFrame(similar_items)\n",
    "similar_items_df.to_parquet('similar.parquet', index=False)\n",
    "s3_load_file([\"similar.parquet\"], s3_folder=s3_folder_rec)"
   ]
  },
  {
   "cell_type": "markdown",
   "id": "0087a3e7-ca9f-42cd-944c-944222c1baef",
   "metadata": {},
   "source": [
    "# Построение признаков"
   ]
  },
  {
   "cell_type": "markdown",
   "id": "e82a32e1-b90b-4eaf-9439-fc8deab9f34b",
   "metadata": {},
   "source": [
    "Построим три признака, можно больше, для ранжирующей модели."
   ]
  },
  {
   "cell_type": "markdown",
   "id": "816cf15e",
   "metadata": {},
   "source": [
    "Для ранжирующей модели буду использовать следующие признаки:\n",
    "- персональные рекомендации ALS (сохранены в файл `personal_als.parquet`)\n",
    "- популярные треки (сохранены в `top_100_items.parquet`)\n",
    "- совпадение жанров (сходство по Жаккарду) - `genre_match`\n",
    "- совпадение исполнителя (сходство по Жаккарду) - `artist_overlap`"
   ]
  },
  {
   "cell_type": "markdown",
   "id": "a6dd7979",
   "metadata": {},
   "source": [
    "Загружаем, если нужно, персональные рекомендации и топ треков"
   ]
  },
  {
   "cell_type": "code",
   "execution_count": 8,
   "id": "05b4ae84-406a-44a4-abec-4f80f93e3004",
   "metadata": {},
   "outputs": [
    {
     "name": "stdout",
     "output_type": "stream",
     "text": [
      "Загружен файл из S3: recsys/recommendations/personal_als.parquet\n",
      "Загружен файл из S3: recsys/recommendations/top_100_items.parquet\n"
     ]
    }
   ],
   "source": [
    "personal_als = read_parquet_from_s3_boto3(\"personal_als.parquet\", s3_folder_rec)\n",
    "top_tracks = read_parquet_from_s3_boto3(\"top_100_items.parquet\", s3_folder_rec)['track_id'].tolist()\n",
    "top_tracks_set = set(top_tracks)"
   ]
  },
  {
   "cell_type": "markdown",
   "id": "645344e4",
   "metadata": {},
   "source": [
    "Загружаем данные, если нужно"
   ]
  },
  {
   "cell_type": "code",
   "execution_count": 9,
   "id": "991f4b6b",
   "metadata": {},
   "outputs": [
    {
     "name": "stdout",
     "output_type": "stream",
     "text": [
      "Загружен файл из S3: recsys/data/events_train_reduced.parquet\n",
      "Загружен файл из S3: recsys/data/events_test.parquet\n",
      "Загружен файл из S3: recsys/data/items.parquet\n"
     ]
    }
   ],
   "source": [
    "events_train_reduced = read_parquet_from_s3_boto3(\"events_train_reduced.parquet\", s3_folder_data)\n",
    "events_test = read_parquet_from_s3_boto3(\"events_test.parquet\", s3_folder_data)\n",
    "items = read_parquet_from_s3_boto3(\"items.parquet\", s3_folder_data)"
   ]
  },
  {
   "cell_type": "code",
   "execution_count": 10,
   "id": "a8b15f1a",
   "metadata": {},
   "outputs": [],
   "source": [
    "# разделяю events_test на labels для получения таргета и test_2 для дальнейшей проверки качества\n",
    "events_labels, events_test_2 = train_test_split(\n",
    "    events_test,\n",
    "    test_size=0.2,\n",
    "    random_state=RND_STATE\n",
    ")"
   ]
  },
  {
   "cell_type": "code",
   "execution_count": null,
   "id": "dd568999",
   "metadata": {},
   "outputs": [],
   "source": [
    "events_labels['target'] = 1\n",
    "candidates = personal_als.merge(events_labels[[\"user_id\", \"track_id\", \"target\"]], \n",
    "                              on=[\"user_id\", \"track_id\"], how=\"left\")"
   ]
  },
  {
   "cell_type": "code",
   "execution_count": 15,
   "metadata": {},
   "outputs": [],
   "source": [
    "candidates[\"target\"] = candidates[\"target\"].fillna(0).astype(\"int\")"
   ]
  },
  {
   "cell_type": "code",
   "execution_count": 16,
   "metadata": {},
   "outputs": [
    {
     "data": {
      "text/plain": [
       "target\n",
       "0    3982015\n",
       "1      17985\n",
       "Name: count, dtype: int64"
      ]
     },
     "execution_count": 16,
     "metadata": {},
     "output_type": "execute_result"
    }
   ],
   "source": [
    "candidates['target'].value_counts()"
   ]
  },
  {
   "cell_type": "markdown",
   "id": "fbbddadb",
   "metadata": {},
   "source": [
    "Существует дисбаланс классов, поэтому оставляю только тех пользователей, у которых есть хотя бы один положительный таргет, и для этих пользователей по 4 негативных примера."
   ]
  },
  {
   "cell_type": "code",
   "execution_count": 17,
   "id": "c0f2a7ac",
   "metadata": {},
   "outputs": [],
   "source": [
    "# в кандидатах оставляем только тех пользователей, у которых есть хотя бы один положительный таргет\n",
    "candidates_to_sample = candidates.groupby(\"user_id\").filter(lambda x: x[\"target\"].sum() > 0)"
   ]
  },
  {
   "cell_type": "code",
   "execution_count": 19,
   "id": "006dc390",
   "metadata": {},
   "outputs": [
    {
     "data": {
      "text/plain": [
       "target\n",
       "0    235835\n",
       "1     17985\n",
       "Name: count, dtype: int64"
      ]
     },
     "execution_count": 19,
     "metadata": {},
     "output_type": "execute_result"
    }
   ],
   "source": [
    "candidates_to_sample['target'].value_counts()"
   ]
  },
  {
   "cell_type": "code",
   "execution_count": 55,
   "id": "b67ef763",
   "metadata": {},
   "outputs": [],
   "source": [
    "# для каждого пользователя оставляем только 4 негативных примера\n",
    "negatives_per_user = 4\n",
    "candidates_for_train = pd.concat([\n",
    "    candidates_to_sample[candidates_to_sample[\"target\"] == 1],\n",
    "    candidates_to_sample.query(\"target == 0\") \\\n",
    "        .groupby(\"user_id\") \\\n",
    "        .apply(lambda x: x.sample(negatives_per_user, random_state=0))\n",
    "    ])"
   ]
  },
  {
   "cell_type": "code",
   "execution_count": 24,
   "id": "cfcb5927",
   "metadata": {},
   "outputs": [
    {
     "data": {
      "text/plain": [
       "target\n",
       "0    50764\n",
       "1    17985\n",
       "Name: count, dtype: int64"
      ]
     },
     "execution_count": 24,
     "metadata": {},
     "output_type": "execute_result"
    }
   ],
   "source": [
    "candidates_for_train['target'].value_counts()"
   ]
  },
  {
   "cell_type": "markdown",
   "id": "52cc503f",
   "metadata": {},
   "source": [
    "Добавляю признаки `genre_match` и `artist_overlap`"
   ]
  },
  {
   "cell_type": "markdown",
   "id": "7420922d",
   "metadata": {},
   "source": [
    "Беру данные из выборки, на которой обучалась ALS, только для тех пользователей, которые есть в candidates_for_train"
   ]
  },
  {
   "cell_type": "code",
   "execution_count": 28,
   "id": "d271dac1",
   "metadata": {},
   "outputs": [],
   "source": [
    "target_users = candidates_for_train['user_id'].unique()\n",
    "events_train_filtered = events_train_reduced[events_train_reduced['user_id'].isin(target_users)]"
   ]
  },
  {
   "cell_type": "code",
   "execution_count": 34,
   "metadata": {},
   "outputs": [],
   "source": [
    "# добавим информацию о жанрах и артистах\n",
    "user_tracks = events_train_filtered.merge(\n",
    "    items[['track_id', 'genres', 'artists']],\n",
    "    on='track_id', how='left'\n",
    ").drop(columns=['track_seq', 'started_at'])"
   ]
  },
  {
   "cell_type": "code",
   "execution_count": 52,
   "id": "6698a5ba",
   "metadata": {},
   "outputs": [],
   "source": [
    "# разворачиваю genres и artists\n",
    "user_genres = user_tracks[['user_id', 'genres']].explode('genres').dropna()\n",
    "user_artists = user_tracks[['user_id', 'artists']].explode('artists').dropna()"
   ]
  },
  {
   "cell_type": "code",
   "execution_count": 53,
   "id": "8e34a882",
   "metadata": {},
   "outputs": [],
   "source": [
    "user_genres = user_genres.groupby('user_id')['genres'].agg(set).reset_index()\n",
    "user_artists = user_artists.groupby('user_id')['artists'].agg(set).reset_index()"
   ]
  },
  {
   "cell_type": "code",
   "execution_count": 38,
   "id": "a697eb04",
   "metadata": {},
   "outputs": [
    {
     "name": "stderr",
     "output_type": "stream",
     "text": [
      "/tmp/ipykernel_1943/2245487954.py:3: SettingWithCopyWarning: \n",
      "A value is trying to be set on a copy of a slice from a DataFrame.\n",
      "Try using .loc[row_indexer,col_indexer] = value instead\n",
      "\n",
      "See the caveats in the documentation: https://pandas.pydata.org/pandas-docs/stable/user_guide/indexing.html#returning-a-view-versus-a-copy\n",
      "  track_info['genres'] = track_info['genres'].apply(set)\n",
      "/tmp/ipykernel_1943/2245487954.py:4: SettingWithCopyWarning: \n",
      "A value is trying to be set on a copy of a slice from a DataFrame.\n",
      "Try using .loc[row_indexer,col_indexer] = value instead\n",
      "\n",
      "See the caveats in the documentation: https://pandas.pydata.org/pandas-docs/stable/user_guide/indexing.html#returning-a-view-versus-a-copy\n",
      "  track_info['artists'] = track_info['artists'].apply(set)\n"
     ]
    }
   ],
   "source": [
    "# genres и artists для треков-кандидатов\n",
    "track_info = items[['track_id', 'genres', 'artists']]\n",
    "track_info['genres'] = track_info['genres'].apply(set)\n",
    "track_info['artists'] = track_info['artists'].apply(set)"
   ]
  },
  {
   "cell_type": "code",
   "execution_count": 57,
   "metadata": {},
   "outputs": [],
   "source": [
    "candidates_for_train = candidates_for_train.merge(track_info, on='track_id', how='left')"
   ]
  },
  {
   "cell_type": "code",
   "execution_count": 60,
   "id": "13675dcb",
   "metadata": {},
   "outputs": [],
   "source": [
    "candidates_for_train['target'] = candidates_for_train['target'].astype('int16')"
   ]
  },
  {
   "cell_type": "code",
   "execution_count": null,
   "id": "2f54f635",
   "metadata": {},
   "outputs": [],
   "source": [
    "candidates_for_train = candidates_for_train.merge(user_genres, on='user_id', how='left', suffixes=('', '_user'))"
   ]
  },
  {
   "cell_type": "code",
   "execution_count": 64,
   "metadata": {},
   "outputs": [],
   "source": [
    "candidates_for_train = candidates_for_train.merge(user_artists, on='user_id', how='left', suffixes=('', '_user'))"
   ]
  },
  {
   "cell_type": "code",
   "execution_count": 65,
   "id": "00f84c35-f544-4c3d-ad53-9b1d2b684c75",
   "metadata": {},
   "outputs": [
    {
     "data": {
      "text/html": [
       "<div>\n",
       "<style scoped>\n",
       "    .dataframe tbody tr th:only-of-type {\n",
       "        vertical-align: middle;\n",
       "    }\n",
       "\n",
       "    .dataframe tbody tr th {\n",
       "        vertical-align: top;\n",
       "    }\n",
       "\n",
       "    .dataframe thead th {\n",
       "        text-align: right;\n",
       "    }\n",
       "</style>\n",
       "<table border=\"1\" class=\"dataframe\">\n",
       "  <thead>\n",
       "    <tr style=\"text-align: right;\">\n",
       "      <th></th>\n",
       "      <th>user_id</th>\n",
       "      <th>track_id</th>\n",
       "      <th>score</th>\n",
       "      <th>target</th>\n",
       "      <th>genres</th>\n",
       "      <th>artists</th>\n",
       "      <th>genres_user</th>\n",
       "      <th>artists_user</th>\n",
       "    </tr>\n",
       "  </thead>\n",
       "  <tbody>\n",
       "    <tr>\n",
       "      <th>0</th>\n",
       "      <td>135</td>\n",
       "      <td>65851540</td>\n",
       "      <td>0.301364</td>\n",
       "      <td>1</td>\n",
       "      <td>{11, 20}</td>\n",
       "      <td>{1554548}</td>\n",
       "      <td>{2, 3, 5, 6, 9, 11, 13, 14, 16, 20, 21, 151, 2...</td>\n",
       "      <td>{1765378, 5754884, 3182600, 8806410, 6165, 682...</td>\n",
       "    </tr>\n",
       "    <tr>\n",
       "      <th>1</th>\n",
       "      <td>312</td>\n",
       "      <td>86710605</td>\n",
       "      <td>0.657694</td>\n",
       "      <td>1</td>\n",
       "      <td>{11}</td>\n",
       "      <td>{6179537, 38071}</td>\n",
       "      <td>{128, 2, 3, 5, 6, 7, 1542, 9, 138, 11, 13, 14,...</td>\n",
       "      <td>{10848257, 7886853, 428038, 6187017, 3942411, ...</td>\n",
       "    </tr>\n",
       "    <tr>\n",
       "      <th>2</th>\n",
       "      <td>349</td>\n",
       "      <td>46409994</td>\n",
       "      <td>0.111754</td>\n",
       "      <td>1</td>\n",
       "      <td>{70}</td>\n",
       "      <td>{1126913}</td>\n",
       "      <td>{3, 6, 9, 11, 13, 14, 15, 16, 17, 151, 25, 153...</td>\n",
       "      <td>{1376256, 1126913, 714241, 357896, 3182600, 15...</td>\n",
       "    </tr>\n",
       "    <tr>\n",
       "      <th>3</th>\n",
       "      <td>402</td>\n",
       "      <td>63894858</td>\n",
       "      <td>0.345579</td>\n",
       "      <td>1</td>\n",
       "      <td>{75, 44}</td>\n",
       "      <td>{4646299, 7143486}</td>\n",
       "      <td>{128, 2, 3, 138, 11, 13, 14, 16, 20, 21, 26, 1...</td>\n",
       "      <td>{6281227, 4593676, 5201940, 5285912, 227355, 5...</td>\n",
       "    </tr>\n",
       "    <tr>\n",
       "      <th>4</th>\n",
       "      <td>529</td>\n",
       "      <td>57482823</td>\n",
       "      <td>0.665326</td>\n",
       "      <td>1</td>\n",
       "      <td>{2, 102}</td>\n",
       "      <td>{425796}</td>\n",
       "      <td>{128, 2, 3, 5, 6, 7, 138, 11, 12, 13, 14, 15, ...</td>\n",
       "      <td>{1536004, 1042437, 1124365, 4778000, 4476949, ...</td>\n",
       "    </tr>\n",
       "  </tbody>\n",
       "</table>\n",
       "</div>"
      ],
      "text/plain": [
       "   user_id  track_id     score  target    genres             artists  \\\n",
       "0      135  65851540  0.301364       1  {11, 20}           {1554548}   \n",
       "1      312  86710605  0.657694       1      {11}    {6179537, 38071}   \n",
       "2      349  46409994  0.111754       1      {70}           {1126913}   \n",
       "3      402  63894858  0.345579       1  {75, 44}  {4646299, 7143486}   \n",
       "4      529  57482823  0.665326       1  {2, 102}            {425796}   \n",
       "\n",
       "                                         genres_user  \\\n",
       "0  {2, 3, 5, 6, 9, 11, 13, 14, 16, 20, 21, 151, 2...   \n",
       "1  {128, 2, 3, 5, 6, 7, 1542, 9, 138, 11, 13, 14,...   \n",
       "2  {3, 6, 9, 11, 13, 14, 15, 16, 17, 151, 25, 153...   \n",
       "3  {128, 2, 3, 138, 11, 13, 14, 16, 20, 21, 26, 1...   \n",
       "4  {128, 2, 3, 5, 6, 7, 138, 11, 12, 13, 14, 15, ...   \n",
       "\n",
       "                                        artists_user  \n",
       "0  {1765378, 5754884, 3182600, 8806410, 6165, 682...  \n",
       "1  {10848257, 7886853, 428038, 6187017, 3942411, ...  \n",
       "2  {1376256, 1126913, 714241, 357896, 3182600, 15...  \n",
       "3  {6281227, 4593676, 5201940, 5285912, 227355, 5...  \n",
       "4  {1536004, 1042437, 1124365, 4778000, 4476949, ...  "
      ]
     },
     "execution_count": 65,
     "metadata": {},
     "output_type": "execute_result"
    }
   ],
   "source": [
    "candidates_for_train.head()"
   ]
  },
  {
   "cell_type": "code",
   "execution_count": 20,
   "id": "374584dd",
   "metadata": {},
   "outputs": [],
   "source": [
    "# функция сходства по Жаккарду\n",
    "def jaccard_vectorized(row, col_1, col_2):\n",
    "    set1 = row[col_1]\n",
    "    set2 = row[col_2]\n",
    "    if isinstance(set1, set) and isinstance(set2, set) and set1 and set2:\n",
    "        return len(set1 & set2) / len(set1 | set2)\n",
    "    else:\n",
    "        return 0.0"
   ]
  },
  {
   "cell_type": "code",
   "execution_count": 67,
   "metadata": {},
   "outputs": [],
   "source": [
    "candidates_for_train['genre_match'] = candidates_for_train.apply(lambda row: jaccard_vectorized(row, 'genres', 'genres_user'), axis=1)\n",
    "candidates_for_train['artist_overlap'] = candidates_for_train.apply(lambda row: jaccard_vectorized(row, 'artists', 'artists_user'), axis=1)"
   ]
  },
  {
   "cell_type": "code",
   "execution_count": 69,
   "metadata": {},
   "outputs": [],
   "source": [
    "# убираем временные колонки\n",
    "candidates_for_train = candidates_for_train.drop(columns=['genres', 'genres_user', 'artists', 'artists_user'])"
   ]
  },
  {
   "cell_type": "code",
   "execution_count": 70,
   "metadata": {},
   "outputs": [
    {
     "data": {
      "text/html": [
       "<div>\n",
       "<style scoped>\n",
       "    .dataframe tbody tr th:only-of-type {\n",
       "        vertical-align: middle;\n",
       "    }\n",
       "\n",
       "    .dataframe tbody tr th {\n",
       "        vertical-align: top;\n",
       "    }\n",
       "\n",
       "    .dataframe thead th {\n",
       "        text-align: right;\n",
       "    }\n",
       "</style>\n",
       "<table border=\"1\" class=\"dataframe\">\n",
       "  <thead>\n",
       "    <tr style=\"text-align: right;\">\n",
       "      <th></th>\n",
       "      <th>user_id</th>\n",
       "      <th>track_id</th>\n",
       "      <th>score</th>\n",
       "      <th>target</th>\n",
       "      <th>genre_match</th>\n",
       "      <th>artist_overlap</th>\n",
       "    </tr>\n",
       "  </thead>\n",
       "  <tbody>\n",
       "    <tr>\n",
       "      <th>0</th>\n",
       "      <td>135</td>\n",
       "      <td>65851540</td>\n",
       "      <td>0.301364</td>\n",
       "      <td>1</td>\n",
       "      <td>0.058824</td>\n",
       "      <td>0.000000</td>\n",
       "    </tr>\n",
       "    <tr>\n",
       "      <th>1</th>\n",
       "      <td>312</td>\n",
       "      <td>86710605</td>\n",
       "      <td>0.657694</td>\n",
       "      <td>1</td>\n",
       "      <td>0.015385</td>\n",
       "      <td>0.000978</td>\n",
       "    </tr>\n",
       "    <tr>\n",
       "      <th>2</th>\n",
       "      <td>349</td>\n",
       "      <td>46409994</td>\n",
       "      <td>0.111754</td>\n",
       "      <td>1</td>\n",
       "      <td>0.027027</td>\n",
       "      <td>0.006173</td>\n",
       "    </tr>\n",
       "    <tr>\n",
       "      <th>3</th>\n",
       "      <td>402</td>\n",
       "      <td>63894858</td>\n",
       "      <td>0.345579</td>\n",
       "      <td>1</td>\n",
       "      <td>0.080000</td>\n",
       "      <td>0.002849</td>\n",
       "    </tr>\n",
       "    <tr>\n",
       "      <th>4</th>\n",
       "      <td>529</td>\n",
       "      <td>57482823</td>\n",
       "      <td>0.665326</td>\n",
       "      <td>1</td>\n",
       "      <td>0.035714</td>\n",
       "      <td>0.001497</td>\n",
       "    </tr>\n",
       "  </tbody>\n",
       "</table>\n",
       "</div>"
      ],
      "text/plain": [
       "   user_id  track_id     score  target  genre_match  artist_overlap\n",
       "0      135  65851540  0.301364       1     0.058824        0.000000\n",
       "1      312  86710605  0.657694       1     0.015385        0.000978\n",
       "2      349  46409994  0.111754       1     0.027027        0.006173\n",
       "3      402  63894858  0.345579       1     0.080000        0.002849\n",
       "4      529  57482823  0.665326       1     0.035714        0.001497"
      ]
     },
     "execution_count": 70,
     "metadata": {},
     "output_type": "execute_result"
    }
   ],
   "source": [
    "candidates_for_train.head()"
   ]
  },
  {
   "cell_type": "markdown",
   "id": "5bda4f7e",
   "metadata": {},
   "source": [
    "Добавляю бинарный признак, попадает ли трек в топ-100"
   ]
  },
  {
   "cell_type": "code",
   "execution_count": 76,
   "metadata": {},
   "outputs": [],
   "source": [
    "candidates_for_train['is_in_top'] = candidates_for_train['track_id'].isin(top_tracks_set).astype('int16')"
   ]
  },
  {
   "cell_type": "code",
   "execution_count": 77,
   "metadata": {},
   "outputs": [
    {
     "data": {
      "text/html": [
       "<div>\n",
       "<style scoped>\n",
       "    .dataframe tbody tr th:only-of-type {\n",
       "        vertical-align: middle;\n",
       "    }\n",
       "\n",
       "    .dataframe tbody tr th {\n",
       "        vertical-align: top;\n",
       "    }\n",
       "\n",
       "    .dataframe thead th {\n",
       "        text-align: right;\n",
       "    }\n",
       "</style>\n",
       "<table border=\"1\" class=\"dataframe\">\n",
       "  <thead>\n",
       "    <tr style=\"text-align: right;\">\n",
       "      <th></th>\n",
       "      <th>user_id</th>\n",
       "      <th>track_id</th>\n",
       "      <th>score</th>\n",
       "      <th>target</th>\n",
       "      <th>genre_match</th>\n",
       "      <th>artist_overlap</th>\n",
       "      <th>is_in_top</th>\n",
       "    </tr>\n",
       "  </thead>\n",
       "  <tbody>\n",
       "    <tr>\n",
       "      <th>0</th>\n",
       "      <td>135</td>\n",
       "      <td>65851540</td>\n",
       "      <td>0.301364</td>\n",
       "      <td>1</td>\n",
       "      <td>0.058824</td>\n",
       "      <td>0.000000</td>\n",
       "      <td>1</td>\n",
       "    </tr>\n",
       "    <tr>\n",
       "      <th>1</th>\n",
       "      <td>312</td>\n",
       "      <td>86710605</td>\n",
       "      <td>0.657694</td>\n",
       "      <td>1</td>\n",
       "      <td>0.015385</td>\n",
       "      <td>0.000978</td>\n",
       "      <td>0</td>\n",
       "    </tr>\n",
       "    <tr>\n",
       "      <th>2</th>\n",
       "      <td>349</td>\n",
       "      <td>46409994</td>\n",
       "      <td>0.111754</td>\n",
       "      <td>1</td>\n",
       "      <td>0.027027</td>\n",
       "      <td>0.006173</td>\n",
       "      <td>0</td>\n",
       "    </tr>\n",
       "    <tr>\n",
       "      <th>3</th>\n",
       "      <td>402</td>\n",
       "      <td>63894858</td>\n",
       "      <td>0.345579</td>\n",
       "      <td>1</td>\n",
       "      <td>0.080000</td>\n",
       "      <td>0.002849</td>\n",
       "      <td>0</td>\n",
       "    </tr>\n",
       "    <tr>\n",
       "      <th>4</th>\n",
       "      <td>529</td>\n",
       "      <td>57482823</td>\n",
       "      <td>0.665326</td>\n",
       "      <td>1</td>\n",
       "      <td>0.035714</td>\n",
       "      <td>0.001497</td>\n",
       "      <td>0</td>\n",
       "    </tr>\n",
       "  </tbody>\n",
       "</table>\n",
       "</div>"
      ],
      "text/plain": [
       "   user_id  track_id     score  target  genre_match  artist_overlap  is_in_top\n",
       "0      135  65851540  0.301364       1     0.058824        0.000000          1\n",
       "1      312  86710605  0.657694       1     0.015385        0.000978          0\n",
       "2      349  46409994  0.111754       1     0.027027        0.006173          0\n",
       "3      402  63894858  0.345579       1     0.080000        0.002849          0\n",
       "4      529  57482823  0.665326       1     0.035714        0.001497          0"
      ]
     },
     "execution_count": 77,
     "metadata": {},
     "output_type": "execute_result"
    }
   ],
   "source": [
    "candidates_for_train.head()"
   ]
  },
  {
   "cell_type": "markdown",
   "id": "807ff0ff",
   "metadata": {},
   "source": [
    "Сохраняю, чтобы не повторять обработку"
   ]
  },
  {
   "cell_type": "code",
   "execution_count": 79,
   "metadata": {},
   "outputs": [
    {
     "name": "stdout",
     "output_type": "stream",
     "text": [
      "Загружен candidates_for_train.parquet --> s3://s3-student-mle-20241017-f11529b173/recsys/data/candidates_for_train.parquet\n"
     ]
    }
   ],
   "source": [
    "candidates_for_train.to_parquet(\"candidates_for_train.parquet\")\n",
    "s3_load_file([\"candidates_for_train.parquet\"], s3_folder=s3_folder_data)"
   ]
  },
  {
   "cell_type": "markdown",
   "id": "c1f362f5",
   "metadata": {},
   "source": [
    "Подготавливаю кандидатов для получения рекомендаций и оценки качества"
   ]
  },
  {
   "cell_type": "code",
   "execution_count": 12,
   "id": "7962b2a8",
   "metadata": {},
   "outputs": [],
   "source": [
    "test_users = set(events_test_2[\"user_id\"].unique())\n",
    "test_candidates = personal_als[personal_als[\"user_id\"].isin(test_users)].copy()"
   ]
  },
  {
   "cell_type": "code",
   "execution_count": 14,
   "metadata": {},
   "outputs": [],
   "source": [
    "target_test_users = test_candidates['user_id'].unique()\n",
    "events_train_filtered_for_test = events_train_reduced[events_train_reduced['user_id'].isin(target_test_users)]"
   ]
  },
  {
   "cell_type": "code",
   "execution_count": 15,
   "id": "4f98369b",
   "metadata": {},
   "outputs": [],
   "source": [
    "# добавим информацию о жанрах и артистах\n",
    "user_test_tracks = events_train_filtered_for_test.merge(\n",
    "    items[['track_id', 'genres', 'artists']],\n",
    "    on='track_id', how='left'\n",
    ").drop(columns=['track_seq', 'started_at'])"
   ]
  },
  {
   "cell_type": "code",
   "execution_count": 18,
   "id": "6a0262ef",
   "metadata": {},
   "outputs": [],
   "source": [
    "# разворачиваю genres и artists\n",
    "user_test_genres = user_test_tracks[['user_id', 'genres']].explode('genres').dropna()\n",
    "user_test_genres = user_test_genres.groupby('user_id')['genres'].agg(set).reset_index()"
   ]
  },
  {
   "cell_type": "code",
   "execution_count": 19,
   "id": "6ebf79bc",
   "metadata": {},
   "outputs": [],
   "source": [
    "user_test_artists = user_test_tracks[['user_id', 'artists']].explode('artists').dropna()\n",
    "user_test_artists = user_test_artists.groupby('user_id')['artists'].agg(set).reset_index()"
   ]
  },
  {
   "cell_type": "code",
   "execution_count": 21,
   "id": "f68a6f71",
   "metadata": {},
   "outputs": [
    {
     "name": "stderr",
     "output_type": "stream",
     "text": [
      "/tmp/ipykernel_2768/2245487954.py:3: SettingWithCopyWarning: \n",
      "A value is trying to be set on a copy of a slice from a DataFrame.\n",
      "Try using .loc[row_indexer,col_indexer] = value instead\n",
      "\n",
      "See the caveats in the documentation: https://pandas.pydata.org/pandas-docs/stable/user_guide/indexing.html#returning-a-view-versus-a-copy\n",
      "  track_info['genres'] = track_info['genres'].apply(set)\n",
      "/tmp/ipykernel_2768/2245487954.py:4: SettingWithCopyWarning: \n",
      "A value is trying to be set on a copy of a slice from a DataFrame.\n",
      "Try using .loc[row_indexer,col_indexer] = value instead\n",
      "\n",
      "See the caveats in the documentation: https://pandas.pydata.org/pandas-docs/stable/user_guide/indexing.html#returning-a-view-versus-a-copy\n",
      "  track_info['artists'] = track_info['artists'].apply(set)\n"
     ]
    }
   ],
   "source": [
    "# genres и artists для треков-кандидатов\n",
    "track_info = items[['track_id', 'genres', 'artists']]\n",
    "track_info['genres'] = track_info['genres'].apply(set)\n",
    "track_info['artists'] = track_info['artists'].apply(set)"
   ]
  },
  {
   "cell_type": "code",
   "execution_count": 22,
   "metadata": {},
   "outputs": [],
   "source": [
    "test_candidates = test_candidates.merge(track_info, on='track_id', how='left')\n",
    "test_candidates = test_candidates.merge(user_test_genres, on='user_id', how='left', suffixes=('', '_user'))\n",
    "test_candidates = test_candidates.merge(user_test_artists, on='user_id', how='left', suffixes=('', '_user'))"
   ]
  },
  {
   "cell_type": "code",
   "execution_count": 25,
   "id": "189043fd",
   "metadata": {},
   "outputs": [],
   "source": [
    "test_candidates['genre_match'] = test_candidates.apply(lambda row: jaccard_vectorized(row, 'genres', 'genres_user'), axis=1)\n",
    "test_candidates['artist_overlap'] = test_candidates.apply(lambda row: jaccard_vectorized(row, 'artists', 'artists_user'), axis=1)\n",
    "test_candidates = test_candidates.drop(columns=['genres', 'genres_user', 'artists', 'artists_user'])\n",
    "test_candidates['is_in_top'] = test_candidates['track_id'].isin(top_tracks_set).astype('int16')"
   ]
  },
  {
   "cell_type": "code",
   "execution_count": 26,
   "id": "089c3cf9",
   "metadata": {},
   "outputs": [
    {
     "data": {
      "text/html": [
       "<div>\n",
       "<style scoped>\n",
       "    .dataframe tbody tr th:only-of-type {\n",
       "        vertical-align: middle;\n",
       "    }\n",
       "\n",
       "    .dataframe tbody tr th {\n",
       "        vertical-align: top;\n",
       "    }\n",
       "\n",
       "    .dataframe thead th {\n",
       "        text-align: right;\n",
       "    }\n",
       "</style>\n",
       "<table border=\"1\" class=\"dataframe\">\n",
       "  <thead>\n",
       "    <tr style=\"text-align: right;\">\n",
       "      <th></th>\n",
       "      <th>user_id</th>\n",
       "      <th>track_id</th>\n",
       "      <th>score</th>\n",
       "      <th>genre_match</th>\n",
       "      <th>artist_overlap</th>\n",
       "      <th>is_in_top</th>\n",
       "    </tr>\n",
       "  </thead>\n",
       "  <tbody>\n",
       "    <tr>\n",
       "      <th>0</th>\n",
       "      <td>16</td>\n",
       "      <td>14690772</td>\n",
       "      <td>0.861597</td>\n",
       "      <td>0.025641</td>\n",
       "      <td>0.002611</td>\n",
       "      <td>0</td>\n",
       "    </tr>\n",
       "    <tr>\n",
       "      <th>1</th>\n",
       "      <td>16</td>\n",
       "      <td>629150</td>\n",
       "      <td>0.770539</td>\n",
       "      <td>0.025641</td>\n",
       "      <td>0.003916</td>\n",
       "      <td>0</td>\n",
       "    </tr>\n",
       "    <tr>\n",
       "      <th>2</th>\n",
       "      <td>16</td>\n",
       "      <td>1706563</td>\n",
       "      <td>0.665803</td>\n",
       "      <td>0.025641</td>\n",
       "      <td>0.001304</td>\n",
       "      <td>0</td>\n",
       "    </tr>\n",
       "    <tr>\n",
       "      <th>3</th>\n",
       "      <td>16</td>\n",
       "      <td>208740</td>\n",
       "      <td>0.632993</td>\n",
       "      <td>0.051282</td>\n",
       "      <td>0.002611</td>\n",
       "      <td>0</td>\n",
       "    </tr>\n",
       "    <tr>\n",
       "      <th>4</th>\n",
       "      <td>16</td>\n",
       "      <td>17352611</td>\n",
       "      <td>0.631236</td>\n",
       "      <td>0.025641</td>\n",
       "      <td>0.001305</td>\n",
       "      <td>0</td>\n",
       "    </tr>\n",
       "  </tbody>\n",
       "</table>\n",
       "</div>"
      ],
      "text/plain": [
       "   user_id  track_id     score  genre_match  artist_overlap  is_in_top\n",
       "0       16  14690772  0.861597     0.025641        0.002611          0\n",
       "1       16    629150  0.770539     0.025641        0.003916          0\n",
       "2       16   1706563  0.665803     0.025641        0.001304          0\n",
       "3       16    208740  0.632993     0.051282        0.002611          0\n",
       "4       16  17352611  0.631236     0.025641        0.001305          0"
      ]
     },
     "execution_count": 26,
     "metadata": {},
     "output_type": "execute_result"
    }
   ],
   "source": [
    "test_candidates.head()"
   ]
  },
  {
   "cell_type": "code",
   "execution_count": 27,
   "id": "701f7031",
   "metadata": {},
   "outputs": [
    {
     "data": {
      "text/plain": [
       "(2345200, 6)"
      ]
     },
     "execution_count": 27,
     "metadata": {},
     "output_type": "execute_result"
    }
   ],
   "source": [
    "test_candidates.shape"
   ]
  },
  {
   "cell_type": "code",
   "execution_count": null,
   "metadata": {},
   "outputs": [
    {
     "name": "stdout",
     "output_type": "stream",
     "text": [
      "Загружен test_candidates.parquet --> s3://s3-student-mle-20241017-f11529b173/recsys/data/test_candidates.parquet\n"
     ]
    }
   ],
   "source": [
    "test_candidates.to_parquet(\"test_candidates.parquet\")\n",
    "s3_load_file([\"test_candidates.parquet\"], s3_folder=s3_folder_data)"
   ]
  },
  {
   "cell_type": "markdown",
   "id": "47bcf88d-b236-46f0-a6f3-38ddd64895fe",
   "metadata": {},
   "source": [
    "# Ранжирование рекомендаций"
   ]
  },
  {
   "cell_type": "markdown",
   "id": "e8cd8223-3418-4493-8c87-1f76286ebda0",
   "metadata": {},
   "source": [
    "Построим ранжирующую модель, чтобы сделать рекомендации более точными. Отранжируем рекомендации."
   ]
  },
  {
   "cell_type": "markdown",
   "id": "658a0e15",
   "metadata": {},
   "source": [
    "Загружаем данные для обучения и получения рекомендаций, если нужно"
   ]
  },
  {
   "cell_type": "code",
   "execution_count": null,
   "id": "656f9f96",
   "metadata": {},
   "outputs": [
    {
     "name": "stdout",
     "output_type": "stream",
     "text": [
      "Загружен файл из S3: recsys/data/candidates_for_train.parquet\n"
     ]
    }
   ],
   "source": [
    "candidates_for_train = read_parquet_from_s3_boto3(\"candidates_for_train.parquet\", s3_folder_data)\n",
    "test_candidates = read_parquet_from_s3_boto3(\"test_candidates.parquet\", s3_folder_data)"
   ]
  },
  {
   "cell_type": "code",
   "execution_count": 33,
   "id": "79f1dd92-32a9-463d-827e-8bb9ee5bbb54",
   "metadata": {},
   "outputs": [
    {
     "name": "stdout",
     "output_type": "stream",
     "text": [
      "Learning rate set to 0.062726\n",
      "0:\tlearn: 0.6758926\ttotal: 66.7ms\tremaining: 1m 6s\n",
      "100:\tlearn: 0.5539488\ttotal: 769ms\tremaining: 6.85s\n",
      "200:\tlearn: 0.5510854\ttotal: 1.5s\tremaining: 5.95s\n",
      "300:\tlearn: 0.5481551\ttotal: 2.25s\tremaining: 5.23s\n",
      "400:\tlearn: 0.5454820\ttotal: 3.02s\tremaining: 4.5s\n",
      "500:\tlearn: 0.5431022\ttotal: 3.77s\tremaining: 3.75s\n",
      "600:\tlearn: 0.5409885\ttotal: 4.73s\tremaining: 3.14s\n",
      "700:\tlearn: 0.5389248\ttotal: 5.72s\tremaining: 2.44s\n",
      "800:\tlearn: 0.5371572\ttotal: 6.46s\tremaining: 1.6s\n",
      "900:\tlearn: 0.5354645\ttotal: 7.19s\tremaining: 791ms\n",
      "999:\tlearn: 0.5337084\ttotal: 7.94s\tremaining: 0us\n"
     ]
    },
    {
     "data": {
      "text/plain": [
       "<catboost.core.CatBoostClassifier at 0x7fe8c6f642e0>"
      ]
     },
     "execution_count": 33,
     "metadata": {},
     "output_type": "execute_result"
    }
   ],
   "source": [
    "# признаки и таргет\n",
    "features = ['score', 'genre_match', 'artist_overlap', 'is_in_top']\n",
    "target = 'target'\n",
    "\n",
    "train_data = Pool(\n",
    "    data=candidates_for_train[features], \n",
    "    label=candidates_for_train[target])\n",
    "\n",
    "# инициализируем модель CatBoostClassifier\n",
    "cb_model = CatBoostClassifier(\n",
    "    iterations=1000,\n",
    "    loss_function='Logloss',\n",
    "    verbose=100,\n",
    "    random_seed=RND_STATE\n",
    ")\n",
    "\n",
    "# тренируем модель\n",
    "cb_model.fit(train_data) "
   ]
  },
  {
   "cell_type": "code",
   "execution_count": 34,
   "id": "e1a4252b",
   "metadata": {},
   "outputs": [],
   "source": [
    "inference_data = Pool(data=test_candidates[features])\n",
    "predictions = cb_model.predict_proba(inference_data)\n",
    "\n",
    "test_candidates[\"cb_score\"] = predictions[:, 1]"
   ]
  },
  {
   "cell_type": "code",
   "execution_count": 35,
   "id": "5ec25e90",
   "metadata": {},
   "outputs": [],
   "source": [
    "# для каждого пользователя проставляем rank, начиная с 1 — это максимальный cb_score\n",
    "test_candidates = test_candidates.sort_values([\"user_id\", \"cb_score\"], ascending=[True, False])\n",
    "test_candidates[\"rank\"] = test_candidates.groupby('user_id')['cb_score'].rank(ascending=False, method='first').astype(int)"
   ]
  },
  {
   "cell_type": "markdown",
   "id": "c11897e2",
   "metadata": {},
   "source": [
    "Сохраняю отранжированные рекомендации"
   ]
  },
  {
   "cell_type": "code",
   "execution_count": 38,
   "metadata": {},
   "outputs": [
    {
     "name": "stdout",
     "output_type": "stream",
     "text": [
      "Загружен recommendations.parquet --> s3://s3-student-mle-20241017-f11529b173/recsys/recommendations/recommendations.parquet\n"
     ]
    }
   ],
   "source": [
    "test_candidates.to_parquet(\"recommendations.parquet\")\n",
    "s3_load_file([\"recommendations.parquet\"], s3_folder=s3_folder_rec)"
   ]
  },
  {
   "cell_type": "markdown",
   "id": "b3c84071-45b5-4a15-a683-e0ab034a3128",
   "metadata": {},
   "source": [
    "# Оценка качества"
   ]
  },
  {
   "cell_type": "markdown",
   "id": "1b107fe4-554e-42b1-87d9-c435a52bb77a",
   "metadata": {},
   "source": [
    "Проверим оценку качества трёх типов рекомендаций: \n",
    "\n",
    "- топ популярных,\n",
    "- персональных, полученных при помощи ALS,\n",
    "- итоговых\n",
    "  \n",
    "по четырем метрикам: recall, precision, coverage, novelty."
   ]
  },
  {
   "cell_type": "code",
   "execution_count": 39,
   "id": "94d6f388-aecb-443e-8647-14014e932d4d",
   "metadata": {},
   "outputs": [],
   "source": [
    "ground_truth = events_test_2.groupby(\"user_id\")[\"track_id\"].apply(set).to_dict()"
   ]
  },
  {
   "cell_type": "code",
   "execution_count": 41,
   "id": "26df411f-14c1-4848-8797-f37afe449cc6",
   "metadata": {},
   "outputs": [],
   "source": [
    "from collections import defaultdict\n",
    "\n",
    "def precision_recall_at_k(recs_dict, ground_truth_dict, k=5):\n",
    "    precisions, recalls = [], []\n",
    "    for user_id in ground_truth_dict:\n",
    "        gt_items = ground_truth_dict[user_id]\n",
    "        rec_items = recs_dict.get(user_id, [])[:k]\n",
    "        if not rec_items:\n",
    "            continue\n",
    "        rec_items_set = set(rec_items)\n",
    "        tp = len(gt_items & rec_items_set)\n",
    "        precisions.append(tp / k)\n",
    "        recalls.append(tp / len(gt_items))\n",
    "    return np.mean(precisions), np.mean(recalls)\n",
    "\n",
    "def coverage(recs_dict, all_items):\n",
    "    recommended_items = set()\n",
    "    for recs in recs_dict.values():\n",
    "        recommended_items.update(recs)\n",
    "    return len(recommended_items) / len(all_items)\n",
    "\n",
    "def novelty(recs_dict, item_popularity, k=5):\n",
    "    scores = []\n",
    "    for recs in recs_dict.values():\n",
    "        for item in recs[:k]:\n",
    "            freq = item_popularity.get(item, 1e-6)\n",
    "            scores.append(-np.log2(freq))\n",
    "    return np.mean(scores)\n",
    "\n",
    "def recs_to_dict(df):\n",
    "    return df.groupby(\"user_id\")[\"track_id\"].apply(list).to_dict()"
   ]
  },
  {
   "cell_type": "markdown",
   "id": "1781c250",
   "metadata": {},
   "source": [
    "Считаем частоту треков для novelty"
   ]
  },
  {
   "cell_type": "code",
   "execution_count": 42,
   "id": "f9f42325",
   "metadata": {},
   "outputs": [],
   "source": [
    "track_freq = events_train_reduced[\"track_id\"].value_counts(normalize=True).to_dict()"
   ]
  },
  {
   "cell_type": "markdown",
   "id": "3b2c7ab9",
   "metadata": {},
   "source": [
    "Загружаем рекомендации"
   ]
  },
  {
   "cell_type": "code",
   "execution_count": 44,
   "id": "c05325cc",
   "metadata": {},
   "outputs": [
    {
     "name": "stdout",
     "output_type": "stream",
     "text": [
      "Загружен файл из S3: recsys/recommendations/recommendations.parquet\n",
      "Загружен файл из S3: recsys/recommendations/personal_als.parquet\n",
      "Загружен файл из S3: recsys/recommendations/top_100_items.parquet\n"
     ]
    }
   ],
   "source": [
    "rec_catboost = read_parquet_from_s3_boto3(\"recommendations.parquet\", s3_folder_rec)\n",
    "rec_als = read_parquet_from_s3_boto3(\"personal_als.parquet\", s3_folder_rec)\n",
    "rec_popular = read_parquet_from_s3_boto3(\"top_100_items.parquet\", s3_folder_rec)"
   ]
  },
  {
   "cell_type": "code",
   "execution_count": 45,
   "metadata": {},
   "outputs": [],
   "source": [
    "recs_catboost = recs_to_dict(rec_catboost)\n",
    "recs_als = recs_to_dict(rec_als)\n",
    "recs_popular = {user: rec_popular[\"track_id\"].tolist() for user in ground_truth}"
   ]
  },
  {
   "cell_type": "markdown",
   "id": "dceeec98",
   "metadata": {},
   "source": [
    "Получаем значения метрик для k=20"
   ]
  },
  {
   "cell_type": "code",
   "execution_count": 50,
   "id": "ee5cdca3",
   "metadata": {},
   "outputs": [
    {
     "name": "stdout",
     "output_type": "stream",
     "text": [
      "      Model  Precision@20  Recall@20  Coverage@20  Novelty@20\n",
      "0  CatBoost        0.0019     0.0042       0.0049     13.0551\n",
      "1       ALS        0.0019     0.0042       0.0050     13.0522\n",
      "2   Popular        0.0017     0.0082       0.0001     11.8385\n"
     ]
    }
   ],
   "source": [
    "results = []\n",
    "\n",
    "for name, recs in {\n",
    "    \"CatBoost\": recs_catboost,\n",
    "    \"ALS\": recs_als,\n",
    "    \"Popular\": recs_popular\n",
    "}.items():\n",
    "    prec, rec = precision_recall_at_k(recs, ground_truth, k=20)\n",
    "    cov = coverage(recs, all_items=set(items[\"track_id\"]))\n",
    "    nov = novelty(recs, track_freq, k=20)\n",
    "\n",
    "    results.append({\n",
    "        \"Model\": name,\n",
    "        \"Precision@20\": round(prec, 4),\n",
    "        \"Recall@20\": round(rec, 4),\n",
    "        \"Coverage@20\": round(cov, 4),\n",
    "        \"Novelty@20\": round(nov, 4)\n",
    "    })\n",
    "\n",
    "metrics_df = pd.DataFrame(results)\n",
    "print(metrics_df)"
   ]
  },
  {
   "cell_type": "markdown",
   "id": "f1c8d38c-32b0-46a4-96f0-cd01dac708bc",
   "metadata": {},
   "source": [
    "# === Выводы, метрики ==="
   ]
  },
  {
   "cell_type": "markdown",
   "id": "f7d7d5d8-7d1e-4fdf-a6cd-83e5ce92c684",
   "metadata": {},
   "source": [
    "Основные выводы при работе над расчётом рекомендаций, рассчитанные метрики."
   ]
  },
  {
   "cell_type": "markdown",
   "id": "c40d0c5d",
   "metadata": {},
   "source": [
    "В связи с ограничением ресурсов виртуальной машины и периодического её перезапуска по тайм-ауту, для обучения взяты данные с 01.06.2025, а также отобраны самые активные 200 000 пользователей.\n",
    "\n",
    "Получены и сохранены в хранилище S3 следующие рекомендации:\n",
    "- топ популярных треков `top_100_items.parquet`;\n",
    "- персональные рекомендации, полученные при помощи модели ALS, `personal_als.parquet`;\n",
    "- похожие треки, или i2i, полученные при помощи ALS, `similar.parquet`;\n",
    "- рекомендации от ранжирующей модели Catboost `recommendations.parquet`."
   ]
  },
  {
   "cell_type": "markdown",
   "id": "cea2ce0a",
   "metadata": {},
   "source": [
    "Проведена оценка качества, получены метрики recall, precision, coverage, novelty для k=20. По полученным метрикам можно сделать следующие выводы:\n",
    "- Precision и Recall идентичны у Catboost и ALS. Возможно стоит добавить признаки и увеличить количество данных.\n",
    "- Точность у ALS и Catboost немного выше, чем у топа популярных. По полноте топ популярных выше. \n",
    "- Покрытие у Catboost и ALS значительно выше, чем у топа популярных, то есть охватывается намного больше треков, хотя значение всё равно низкое\n",
    "- Новизна у Catboost и ALS почти одинакова и больше, чем у топа популярных, значит модель способна предложить что-то новое, а не одно и то же.\n",
    "\n",
    "В целом, значения метрик низкие и можно попробовать улучшить предсказания. Например, попробовать следующее:\n",
    "- увеличить количество данных для обучения, если позволят ресурсы;\n",
    "- увеличить количество рекомендаций на пользователя, получаемое через ALS;\n",
    "- добавить признаки к ранжирующей модели, попробовать подобрать более оптимальные параметры для Catboost."
   ]
  },
  {
   "cell_type": "code",
   "execution_count": null,
   "id": "986cfdd5-6f2e-4de6-8666-85804c87d04b",
   "metadata": {},
   "outputs": [],
   "source": []
  }
 ],
 "metadata": {
  "kernelspec": {
   "display_name": "venv_p04",
   "language": "python",
   "name": "venv_project_04"
  },
  "language_info": {
   "codemirror_mode": {
    "name": "ipython",
    "version": 3
   },
   "file_extension": ".py",
   "mimetype": "text/x-python",
   "name": "python",
   "nbconvert_exporter": "python",
   "pygments_lexer": "ipython3",
   "version": "3.10.12"
  }
 },
 "nbformat": 4,
 "nbformat_minor": 5
}
